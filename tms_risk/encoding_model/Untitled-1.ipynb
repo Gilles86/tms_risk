{
 "cells": [
  {
   "cell_type": "code",
   "execution_count": 1,
   "metadata": {},
   "outputs": [],
   "source": [
    "import pandas as pd\n",
    "from tms_risk.utils.data import get_tms_subjects, get_participant_info"
   ]
  },
  {
   "cell_type": "code",
   "execution_count": 8,
   "metadata": {},
   "outputs": [
    {
     "name": "stdout",
     "output_type": "stream",
     "text": [
      "species\n",
      "age\n",
      "sex\n",
      "handedness\n",
      "tms_subject\n"
     ]
    }
   ],
   "source": [
    "for key, value in get_participant_info().loc['sub-01'].items():\n",
    "    print(key)"
   ]
  },
  {
   "cell_type": "code",
   "execution_count": 29,
   "metadata": {},
   "outputs": [],
   "source": [
    "subjects = pd.read_csv('~/Downloads/Risk TMS study participants - 3.csv', header=[3], nrows=78, index_col=0)"
   ]
  },
  {
   "cell_type": "code",
   "execution_count": 35,
   "metadata": {},
   "outputs": [],
   "source": [
    "subjects['tms_subject'] = subjects.index.to_series().map(lambda x: str(x in get_tms_subjects()).lower())"
   ]
  },
  {
   "cell_type": "code",
   "execution_count": 36,
   "metadata": {},
   "outputs": [],
   "source": [
    "subjects['participant_id'] = subjects.index.to_series().map(lambda x: f'sub-{x:02d}')\n",
    "subjects['species'] = 'homo sapiens'\n",
    "subjects['age'] = subjects['Age']\n",
    "subjects['sex'] = subjects['Gender']\n",
    "subjects['handedness'] = 'right'"
   ]
  },
  {
   "cell_type": "code",
   "execution_count": null,
   "metadata": {},
   "outputs": [],
   "source": []
  },
  {
   "cell_type": "code",
   "execution_count": 37,
   "metadata": {},
   "outputs": [],
   "source": [
    "subjects[['participant_id', 'species', 'age', 'sex', 'handedness', 'tms_subject']].to_csv('/data/ds-tmsrisk/participants.tsv', sep='\\t', index=False)"
   ]
  },
  {
   "cell_type": "code",
   "execution_count": null,
   "metadata": {},
   "outputs": [],
   "source": []
  },
  {
   "cell_type": "code",
   "execution_count": 19,
   "metadata": {},
   "outputs": [],
   "source": [
    "import yaml\n",
    "\n",
    "d = subjects[['Gender', 'Age']].T.to_dict()\n",
    "\n",
    "with open('/Users/gdehol/git/tms_risk/tms_risk/data/subject_info.yml', 'w') as outfile:\n",
    "    yaml.dump(d, outfile, default_flow_style=False)"
   ]
  }
 ],
 "metadata": {
  "kernelspec": {
   "display_name": "base",
   "language": "python",
   "name": "python3"
  },
  "language_info": {
   "codemirror_mode": {
    "name": "ipython",
    "version": 3
   },
   "file_extension": ".py",
   "mimetype": "text/x-python",
   "name": "python",
   "nbconvert_exporter": "python",
   "pygments_lexer": "ipython3",
   "version": "3.10.9"
  },
  "orig_nbformat": 4,
  "vscode": {
   "interpreter": {
    "hash": "a128080c8c39cf33963eaaa0fee95f5610fd25c7c34c91613760903d9a2a0b15"
   }
  }
 },
 "nbformat": 4,
 "nbformat_minor": 2
}
