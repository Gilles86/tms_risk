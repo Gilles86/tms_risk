{
 "cells": [
  {
   "cell_type": "code",
   "execution_count": 1,
   "metadata": {},
   "outputs": [],
   "source": [
    "from tms_risk.utils.data import get_all_behavior\n",
    "from scipy.stats import zscore"
   ]
  },
  {
   "cell_type": "code",
   "execution_count": 2,
   "metadata": {},
   "outputs": [],
   "source": [
    "df = get_all_behavior(all_tms_conditions=True, exclude_outliers=False)"
   ]
  },
  {
   "cell_type": "code",
   "execution_count": 3,
   "metadata": {},
   "outputs": [
    {
     "data": {
      "text/plain": [
       "subject\n",
       "22    0.116992\n",
       "49    0.137143\n",
       "74    0.313889\n",
       "59    0.329609\n",
       "35    0.354749\n",
       "9     0.380556\n",
       "29    0.393855\n",
       "6     0.400560\n",
       "72    0.407821\n",
       "4     0.422096\n",
       "19    0.430168\n",
       "67    0.462396\n",
       "37    0.469444\n",
       "50    0.505556\n",
       "21    0.509804\n",
       "34    0.511111\n",
       "46    0.534819\n",
       "1     0.534819\n",
       "47    0.553371\n",
       "45    0.555241\n",
       "26    0.558739\n",
       "11    0.558989\n",
       "36    0.566667\n",
       "2     0.573864\n",
       "53    0.579387\n",
       "63    0.589744\n",
       "7     0.610169\n",
       "25    0.617318\n",
       "31    0.624650\n",
       "18    0.628169\n",
       "3     0.630556\n",
       "69    0.650000\n",
       "56    0.663866\n",
       "30    0.688022\n",
       "10    0.693215\n",
       "5     0.713889\n",
       "62    0.732955\n",
       "Name: chose_risky, dtype: float64"
      ]
     },
     "execution_count": 3,
     "metadata": {},
     "output_type": "execute_result"
    }
   ],
   "source": [
    "df.groupby(['subject']).chose_risky.mean().sort_values()\n"
   ]
  },
  {
   "cell_type": "code",
   "execution_count": 4,
   "metadata": {},
   "outputs": [
    {
     "data": {
      "text/plain": [
       "subject\n",
       "22   -2.785511\n",
       "49   -2.643992\n",
       "74   -1.402731\n",
       "59   -1.292331\n",
       "35   -1.115779\n",
       "9    -0.934540\n",
       "29   -0.841142\n",
       "6    -0.794051\n",
       "72   -0.743058\n",
       "4    -0.642806\n",
       "19   -0.586122\n",
       "67   -0.359790\n",
       "37   -0.310287\n",
       "50   -0.056684\n",
       "21   -0.026848\n",
       "34   -0.017668\n",
       "46    0.148829\n",
       "1     0.148829\n",
       "47    0.279116\n",
       "45    0.292248\n",
       "26    0.316818\n",
       "11    0.318570\n",
       "36    0.372491\n",
       "2     0.423034\n",
       "53    0.461825\n",
       "63    0.534556\n",
       "7     0.678005\n",
       "25    0.728211\n",
       "31    0.779698\n",
       "18    0.804413\n",
       "3     0.821173\n",
       "69    0.957728\n",
       "56    1.055104\n",
       "30    1.224753\n",
       "10    1.261223\n",
       "5     1.406411\n",
       "62    1.540306\n",
       "Name: chose_risky, dtype: float64"
      ]
     },
     "execution_count": 4,
     "metadata": {},
     "output_type": "execute_result"
    }
   ],
   "source": [
    "zscore(df.groupby(['subject']).chose_risky.mean().sort_values())"
   ]
  },
  {
   "cell_type": "code",
   "execution_count": 5,
   "metadata": {},
   "outputs": [
    {
     "data": {
      "text/plain": [
       "subject  session\n",
       "22       3          0.058333\n",
       "         2          0.075630\n",
       "49       3          0.088496\n",
       "         2          0.102564\n",
       "22       1          0.216667\n",
       "                      ...   \n",
       "62       2          0.787611\n",
       "5        3          0.800000\n",
       "30       3          0.866667\n",
       "45       3          0.887931\n",
       "62       3          0.924370\n",
       "Name: chose_risky, Length: 111, dtype: float64"
      ]
     },
     "execution_count": 5,
     "metadata": {},
     "output_type": "execute_result"
    }
   ],
   "source": [
    "df.groupby(['subject','session']).chose_risky.mean().sort_values()"
   ]
  },
  {
   "cell_type": "code",
   "execution_count": null,
   "metadata": {},
   "outputs": [],
   "source": []
  }
 ],
 "metadata": {
  "kernelspec": {
   "display_name": "Python 3.10.6 ('base')",
   "language": "python",
   "name": "python3"
  },
  "language_info": {
   "codemirror_mode": {
    "name": "ipython",
    "version": 3
   },
   "file_extension": ".py",
   "mimetype": "text/x-python",
   "name": "python",
   "nbconvert_exporter": "python",
   "pygments_lexer": "ipython3",
   "version": "3.10.6"
  },
  "orig_nbformat": 4,
  "vscode": {
   "interpreter": {
    "hash": "a128080c8c39cf33963eaaa0fee95f5610fd25c7c34c91613760903d9a2a0b15"
   }
  }
 },
 "nbformat": 4,
 "nbformat_minor": 2
}
