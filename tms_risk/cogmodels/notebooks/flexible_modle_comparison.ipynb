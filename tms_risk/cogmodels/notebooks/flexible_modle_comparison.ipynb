{
 "cells": [
  {
   "cell_type": "code",
   "execution_count": 7,
   "metadata": {},
   "outputs": [],
   "source": [
    "bids_folder = '/data/ds-tmsrisk/'\n",
    "import os.path as op\n",
    "import arviz as az\n",
    "\n",
    "from tms_risk.cogmodels.fit_model import build_model, get_data\n",
    "import pymc as pm"
   ]
  },
  {
   "cell_type": "code",
   "execution_count": 8,
   "metadata": {},
   "outputs": [
    {
     "name": "stderr",
     "output_type": "stream",
     "text": [
      "/Users/gdehol/git/tms_risk/tms_risk/utils/data.py:81: UserWarning: Subject 10/session 1 has only 5 runs!!\n",
      "  warnings.warn('Subject 10/session 1 has only 5 runs!!')\n"
     ]
    },
    {
     "name": "stdout",
     "output_type": "stream",
     "text": [
      "Dropping the baseline condition\n"
     ]
    },
    {
     "name": "stderr",
     "output_type": "stream",
     "text": [
      "/Users/gdehol/git/tms_risk/tms_risk/utils/data.py:81: UserWarning: Subject 10/session 1 has only 5 runs!!\n",
      "  warnings.warn('Subject 10/session 1 has only 5 runs!!')\n"
     ]
    },
    {
     "name": "stdout",
     "output_type": "stream",
     "text": [
      "Dropping the baseline condition\n"
     ]
    }
   ],
   "source": [
    "df1 = get_data(model_label='flexible1')\n",
    "model1 = build_model('flexible1', df1)\n",
    "idata1 = az.from_netcdf(op.join(bids_folder, 'derivatives', 'cogmodels', 'model-flexible1_trace.netcdf'))\n",
    "\n",
    "df2 = get_data(model_label='flexible1_null')\n",
    "model2 = build_model('flexible1_null', df2)\n",
    "idata2 = az.from_netcdf(op.join(bids_folder, 'derivatives', 'cogmodels', 'model-flexible1_null_trace.netcdf'))"
   ]
  },
  {
   "cell_type": "code",
   "execution_count": 9,
   "metadata": {},
   "outputs": [
    {
     "ename": "AttributeError",
     "evalue": "'FlexibleSDRiskRegressionModel' object has no attribute 'estimation_model'",
     "output_type": "error",
     "traceback": [
      "\u001b[0;31m---------------------------------------------------------------------------\u001b[0m",
      "\u001b[0;31mAttributeError\u001b[0m                            Traceback (most recent call last)",
      "Cell \u001b[0;32mIn[9], line 2\u001b[0m\n\u001b[1;32m      1\u001b[0m \u001b[39mfor\u001b[39;00m model, idata \u001b[39min\u001b[39;00m \u001b[39mzip\u001b[39m([model1, model2], [idata1, idata2]):\n\u001b[0;32m----> 2\u001b[0m     \u001b[39mwith\u001b[39;00m model\u001b[39m.\u001b[39;49mestimation_model:\n\u001b[1;32m      3\u001b[0m         pm\u001b[39m.\u001b[39mcompute_log_likelihood(idata)\n",
      "\u001b[0;31mAttributeError\u001b[0m: 'FlexibleSDRiskRegressionModel' object has no attribute 'estimation_model'"
     ]
    }
   ],
   "source": [
    "for model, idata in zip([model1, model2], [idata1, idata2]):\n",
    "    with model.estimation_model:\n",
    "        pm.compute_log_likelihood(idata)"
   ]
  },
  {
   "cell_type": "code",
   "execution_count": null,
   "metadata": {},
   "outputs": [],
   "source": []
  }
 ],
 "metadata": {
  "kernelspec": {
   "display_name": "base",
   "language": "python",
   "name": "python3"
  },
  "language_info": {
   "codemirror_mode": {
    "name": "ipython",
    "version": 3
   },
   "file_extension": ".py",
   "mimetype": "text/x-python",
   "name": "python",
   "nbconvert_exporter": "python",
   "pygments_lexer": "ipython3",
   "version": "3.10.9"
  },
  "orig_nbformat": 4
 },
 "nbformat": 4,
 "nbformat_minor": 2
}
