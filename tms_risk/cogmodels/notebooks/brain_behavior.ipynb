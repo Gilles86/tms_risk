{
 "cells": [
  {
   "cell_type": "code",
   "execution_count": 192,
   "metadata": {},
   "outputs": [],
   "source": [
    "import arviz as az\n",
    "import numpy as np\n",
    "import os.path as op\n",
    "import pandas as pd\n",
    "\n",
    "import seaborn as sns\n",
    "from bauer.utils.plotting import plot_prediction\n",
    "import matplotlib.pyplot as plt\n",
    "from tms_risk.utils import get_subjects\n",
    "from tms_risk.cogmodels.fit_model import build_model, get_data\n",
    "from bauer.utils.math import softplus_np\n",
    "from tms_risk.cogmodels.utils import plot_ppc\n",
    "\n",
    "from bauer.models import FlexibleSDRiskRegressionModel\n",
    "\n",
    "def get_curve_posterior(evidence_sd_posterior):\n",
    "    curve_posterior = evidence_sd_posterior.dot(dm.T)\n",
    "    curve_posterior.columns = x\n",
    "    curve_posterior.columns.name = 'x'\n",
    "\n",
    "    return softplus_np(curve_posterior)\n",
    "\n",
    "\n",
    "def get_curve_stats(evidence_sd_posterior):\n",
    "    curve_posterior = get_curve_posterior(evidence_sd_posterior)\n",
    "\n",
    "    return FlexibleSDRiskRegressionModel.get_sd_curve_stats(curve_posterior.stack().to_frame('sd'))\n",
    "\n",
    "def get_ppc(model, idata, df):\n",
    "    model.build_estimation_model()\n",
    "    ppc = model.ppc(trace=idata.sel(draw=slice(None, None, 10)), data=df)\n",
    "\n",
    "    ix_risky_first = ppc.index.get_level_values('risky_first')\n",
    "    ppc.loc[ix_risky_first] = 1- ppc.loc[ix_risky_first]\n",
    "\n",
    "    return ppc\n",
    "\n",
    "stimulation_palette = sns.color_palette()[2:4]\n",
    "stimulation_order = ['Vertex', 'IPS']\n",
    "\n",
    "bids_folder = '/data/ds-tmsrisk'"
   ]
  },
  {
   "cell_type": "markdown",
   "metadata": {},
   "source": [
    "# Get dip in noisiness between 7 and 18"
   ]
  },
  {
   "cell_type": "code",
   "execution_count": 193,
   "metadata": {},
   "outputs": [
    {
     "name": "stderr",
     "output_type": "stream",
     "text": [
      "/Users/gdehol/git/tms_risk/tms_risk/utils/data.py:150: UserWarning: Subject 10/session 1 has only 5 runs!!\n",
      "  warnings.warn('Subject 10/session 1 has only 5 runs!!')\n"
     ]
    },
    {
     "name": "stdout",
     "output_type": "stream",
     "text": [
      "Dropping the baseline condition\n"
     ]
    }
   ],
   "source": [
    "df = get_data(model_label='flexible1')\n",
    "model = build_model(df=df, model_label='flexible1')\n",
    "\n",
    "idata = az.from_netcdf(op.join(bids_folder, 'derivatives', 'cogmodels', 'model-flexible1_trace.netcdf'))"
   ]
  },
  {
   "cell_type": "code",
   "execution_count": 194,
   "metadata": {},
   "outputs": [
    {
     "name": "stderr",
     "output_type": "stream",
     "text": [
      "/var/folders/d4/cpqhwlbn301clph1qk64k01nmjkty3/T/ipykernel_8438/2540671200.py:1: FutureWarning: In a future version of pandas all arguments of concat except for the argument 'objs' will be keyword-only.\n",
      "  n1_evidence_sd_ips = pd.concat([idata.posterior[f'n1_evidence_sd_poly{ix}'].to_dataframe().xs('Intercept', 0, -1) for ix in range(5)], 1)\n",
      "/var/folders/d4/cpqhwlbn301clph1qk64k01nmjkty3/T/ipykernel_8438/2540671200.py:2: FutureWarning: In a future version of pandas all arguments of concat except for the argument 'objs' will be keyword-only.\n",
      "  n1_evidence_sd_vertex = pd.concat([idata.posterior[f'n1_evidence_sd_poly{ix}'].to_dataframe().xs('Intercept', 0, -1) for ix in range(5)], 1) + pd.concat([idata.posterior[f'n1_evidence_sd_poly{ix}'].to_dataframe().xs('stimulation_condition[T.vertex]', 0, -1) for ix in range(5)], 1).values\n",
      "/var/folders/d4/cpqhwlbn301clph1qk64k01nmjkty3/T/ipykernel_8438/2540671200.py:2: FutureWarning: In a future version of pandas all arguments of concat except for the argument 'objs' will be keyword-only.\n",
      "  n1_evidence_sd_vertex = pd.concat([idata.posterior[f'n1_evidence_sd_poly{ix}'].to_dataframe().xs('Intercept', 0, -1) for ix in range(5)], 1) + pd.concat([idata.posterior[f'n1_evidence_sd_poly{ix}'].to_dataframe().xs('stimulation_condition[T.vertex]', 0, -1) for ix in range(5)], 1).values\n",
      "/var/folders/d4/cpqhwlbn301clph1qk64k01nmjkty3/T/ipykernel_8438/2540671200.py:4: FutureWarning: In a future version of pandas all arguments of concat except for the argument 'objs' will be keyword-only.\n",
      "  n2_evidence_sd_ips = pd.concat([idata.posterior[f'n2_evidence_sd_poly{ix}'].to_dataframe().xs('Intercept', 0, -1) for ix in range(5)], 1)\n",
      "/var/folders/d4/cpqhwlbn301clph1qk64k01nmjkty3/T/ipykernel_8438/2540671200.py:5: FutureWarning: In a future version of pandas all arguments of concat except for the argument 'objs' will be keyword-only.\n",
      "  n2_evidence_sd_vertex = pd.concat([idata.posterior[f'n2_evidence_sd_poly{ix}'].to_dataframe().xs('Intercept', 0, -1) for ix in range(5)], 1) + pd.concat([idata.posterior[f'n2_evidence_sd_poly{ix}'].to_dataframe().xs('stimulation_condition[T.vertex]', 0, -1) for ix in range(5)], 1).values\n",
      "/var/folders/d4/cpqhwlbn301clph1qk64k01nmjkty3/T/ipykernel_8438/2540671200.py:5: FutureWarning: In a future version of pandas all arguments of concat except for the argument 'objs' will be keyword-only.\n",
      "  n2_evidence_sd_vertex = pd.concat([idata.posterior[f'n2_evidence_sd_poly{ix}'].to_dataframe().xs('Intercept', 0, -1) for ix in range(5)], 1) + pd.concat([idata.posterior[f'n2_evidence_sd_poly{ix}'].to_dataframe().xs('stimulation_condition[T.vertex]', 0, -1) for ix in range(5)], 1).values\n"
     ]
    }
   ],
   "source": [
    "n1_evidence_sd_ips = pd.concat([idata.posterior[f'n1_evidence_sd_poly{ix}'].to_dataframe().xs('Intercept', 0, -1) for ix in range(5)], 1)\n",
    "n1_evidence_sd_vertex = pd.concat([idata.posterior[f'n1_evidence_sd_poly{ix}'].to_dataframe().xs('Intercept', 0, -1) for ix in range(5)], 1) + pd.concat([idata.posterior[f'n1_evidence_sd_poly{ix}'].to_dataframe().xs('stimulation_condition[T.vertex]', 0, -1) for ix in range(5)], 1).values\n",
    "\n",
    "n2_evidence_sd_ips = pd.concat([idata.posterior[f'n2_evidence_sd_poly{ix}'].to_dataframe().xs('Intercept', 0, -1) for ix in range(5)], 1)\n",
    "n2_evidence_sd_vertex = pd.concat([idata.posterior[f'n2_evidence_sd_poly{ix}'].to_dataframe().xs('Intercept', 0, -1) for ix in range(5)], 1) + pd.concat([idata.posterior[f'n2_evidence_sd_poly{ix}'].to_dataframe().xs('stimulation_condition[T.vertex]', 0, -1) for ix in range(5)], 1).values\n",
    "\n",
    "x = np.(7, 112)\n",
    "dm = model.make_dm(x)\n",
    "\n",
    "def get_curve_posterior(evidence_sd_posterior):\n",
    "    curve_posterior = evidence_sd_posterior.dot(dm.T)\n",
    "    curve_posterior.columns = x\n",
    "    curve_posterior.columns.name = 'x'\n",
    "\n",
    "    return softplus_np(curve_posterior)\n",
    "\n",
    "def get_curve_stats(evidence_sd_posterior):\n",
    "    curve_posterior = get_curve_posterior(evidence_sd_posterior)\n",
    "\n",
    "    return model.get_sd_curve_stats(curve_posterior.stack().to_frame('sd'))\n",
    "\n",
    "for d in [n1_evidence_sd_ips, n1_evidence_sd_vertex, n2_evidence_sd_ips, n2_evidence_sd_vertex]:\n",
    "    d.columns = range(5)\n",
    "\n",
    "evidence_sd = pd.concat((n1_evidence_sd_ips, n1_evidence_sd_vertex, n2_evidence_sd_ips, n2_evidence_sd_vertex),axis=0,\n",
    "                        keys=[(1, 'IPS'), (1, 'Vertex'), (2, 'IPS'), (2, 'Vertex')], names=['n', 'TMS'])\n",
    "\n",
    "curve_posterior = get_curve_posterior(evidence_sd)\n",
    "curve_stats = evidence_sd.groupby(['n', 'TMS'], group_keys=True).apply(get_curve_stats)"
   ]
  },
  {
   "cell_type": "code",
   "execution_count": 195,
   "metadata": {},
   "outputs": [
    {
     "data": {
      "text/html": [
       "<div>\n",
       "<style scoped>\n",
       "    .dataframe tbody tr th:only-of-type {\n",
       "        vertical-align: middle;\n",
       "    }\n",
       "\n",
       "    .dataframe tbody tr th {\n",
       "        vertical-align: top;\n",
       "    }\n",
       "\n",
       "    .dataframe thead th {\n",
       "        text-align: right;\n",
       "    }\n",
       "</style>\n",
       "<table border=\"1\" class=\"dataframe\">\n",
       "  <thead>\n",
       "    <tr style=\"text-align: right;\">\n",
       "      <th>TMS</th>\n",
       "      <th>IPS</th>\n",
       "      <th>Vertex</th>\n",
       "    </tr>\n",
       "    <tr>\n",
       "      <th>TMS</th>\n",
       "      <th></th>\n",
       "      <th></th>\n",
       "    </tr>\n",
       "  </thead>\n",
       "  <tbody>\n",
       "    <tr>\n",
       "      <th>IPS</th>\n",
       "      <td>1.000000</td>\n",
       "      <td>0.896822</td>\n",
       "    </tr>\n",
       "    <tr>\n",
       "      <th>Vertex</th>\n",
       "      <td>0.896822</td>\n",
       "      <td>1.000000</td>\n",
       "    </tr>\n",
       "  </tbody>\n",
       "</table>\n",
       "</div>"
      ],
      "text/plain": [
       "TMS          IPS    Vertex\n",
       "TMS                       \n",
       "IPS     1.000000  0.896822\n",
       "Vertex  0.896822  1.000000"
      ]
     },
     "execution_count": 195,
     "metadata": {},
     "output_type": "execute_result"
    }
   ],
   "source": [
    "curve_posterior.loc[2, 7:22].groupby(['subject', 'TMS']).mean().mean(1).unstack('TMS').corr()"
   ]
  },
  {
   "cell_type": "code",
   "execution_count": 196,
   "metadata": {},
   "outputs": [],
   "source": [
    "diff = curve_posterior.xs('IPS', 0, 'TMS') - curve_posterior.xs('Vertex', 0, 'TMS')"
   ]
  },
  {
   "cell_type": "code",
   "execution_count": 198,
   "metadata": {},
   "outputs": [
    {
     "data": {
      "text/plain": [
       "<Axes: ylabel='Count'>"
      ]
     },
     "execution_count": 198,
     "metadata": {},
     "output_type": "execute_result"
    },
    {
     "data": {
      "image/png": "[encoded data removed]",
      "text/plain": [
       "<Figure size 640x480 with 1 Axes>"
      ]
     },
     "metadata": {},
     "output_type": "display_data"
    }
   ],
   "source": [
    "cognitive_ips_effect = diff.loc[2, 7:22].groupby('subject').mean().mean(1)\n",
    "sns.histplot(cognitive_ips_effect)"
   ]
  },
  {
   "cell_type": "markdown",
   "metadata": {},
   "source": [
    "# Compare to amplitude dip\n"
   ]
  },
  {
   "cell_type": "code",
   "execution_count": 199,
   "metadata": {},
   "outputs": [
    {
     "data": {
      "application/vnd.jupyter.widget-view+json": {
       "model_id": "5b099feb2587471ab9655176fa5e0859",
       "version_major": 2,
       "version_minor": 0
      },
      "text/plain": [
       "  0%|          | 0/70 [00:00<?, ?it/s]"
      ]
     },
     "metadata": {},
     "output_type": "display_data"
    }
   ],
   "source": [
    "from tqdm.contrib.itertools import product\n",
    "from tms_risk.utils import get_tms_conditions\n",
    "\n",
    "subjects = get_subjects(all_tms_conditions=True)\n",
    "\n",
    "pars = []\n",
    "keys = []\n",
    "\n",
    "for sub, session, roi in product(subjects, [2,3], ['NPCr2cm-cluster']):\n",
    "\n",
    "    try:\n",
    "        pars.append(sub.get_prf_parameters_volume(session, smoothed=True, retroicor=False, denoise=True, cross_validated=False, natural_space=True, roi=roi, keys=['mu', 'amplitude', 'cvr2', 'r2']))\n",
    "        keys.append((sub.subject, session, roi))\n",
    "    except Exception as e:\n",
    "        print(e)\n",
    "\n",
    "pars = pd.concat(pars, keys=keys, names=['subject', 'session', 'roi'])\n",
    "tms_conditions = get_tms_conditions()\n",
    "\n",
    "pars['stimulation_condition'] = pars.reset_index().apply(lambda d: tms_conditions[d['subject']][d['session']],  axis=1).values\n",
    "pars = pars.set_index('stimulation_condition', append=True)\n",
    "pars.index = pars.index.set_names('voxel', level=-2)\n"
   ]
  },
  {
   "cell_type": "code",
   "execution_count": 200,
   "metadata": {},
   "outputs": [
    {
     "data": {
      "text/plain": [
       "<matplotlib.lines.Line2D at 0x28c4ab070>"
      ]
     },
     "execution_count": 200,
     "metadata": {},
     "output_type": "execute_result"
    },
    {
     "data": {
      "image/png": "[encoded data removed]",
      "text/plain": [
       "<Figure size 500x500 with 1 Axes>"
      ]
     },
     "metadata": {},
     "output_type": "display_data"
    }
   ],
   "source": [
    "tmp = pars[pars.cvr2 > 0.0]\n",
    "\n",
    "amplitude_diff = tmp.groupby(['subject', 'stimulation_condition'])['amplitude'].mean().unstack()\n",
    "amplitude_diff = amplitude_diff['ips'] - amplitude_diff['vertex']\n",
    "amplitude_diff.index = amplitude_diff.index.astype(int)\n",
    "\n",
    "diffs = amplitude_diff.to_frame('amplitude_diff').join(cognitive_ips_effect.to_frame(\"cognitive_noise_diff\"))\n",
    "\n",
    "sns.lmplot(x='amplitude_diff', y='cognitive_noise_diff', data=diffs.reset_index(), robust=True)\n",
    "plt.axhline(0, color='k', linestyle='--')\n",
    "plt.axvline(0, color='k', linestyle='--')"
   ]
  },
  {
   "cell_type": "code",
   "execution_count": 201,
   "metadata": {},
   "outputs": [
    {
     "data": {
      "text/html": [
       "<div>\n",
       "<style scoped>\n",
       "    .dataframe tbody tr th:only-of-type {\n",
       "        vertical-align: middle;\n",
       "    }\n",
       "\n",
       "    .dataframe tbody tr th {\n",
       "        vertical-align: top;\n",
       "    }\n",
       "\n",
       "    .dataframe thead th {\n",
       "        text-align: right;\n",
       "    }\n",
       "</style>\n",
       "<table border=\"1\" class=\"dataframe\">\n",
       "  <thead>\n",
       "    <tr style=\"text-align: right;\">\n",
       "      <th>stimulation_condition</th>\n",
       "      <th>ips</th>\n",
       "      <th>vertex</th>\n",
       "    </tr>\n",
       "    <tr>\n",
       "      <th>stimulation_condition</th>\n",
       "      <th></th>\n",
       "      <th></th>\n",
       "    </tr>\n",
       "  </thead>\n",
       "  <tbody>\n",
       "    <tr>\n",
       "      <th>ips</th>\n",
       "      <td>1.000000</td>\n",
       "      <td>0.472164</td>\n",
       "    </tr>\n",
       "    <tr>\n",
       "      <th>vertex</th>\n",
       "      <td>0.472164</td>\n",
       "      <td>1.000000</td>\n",
       "    </tr>\n",
       "  </tbody>\n",
       "</table>\n",
       "</div>"
      ],
      "text/plain": [
       "stimulation_condition       ips    vertex\n",
       "stimulation_condition                    \n",
       "ips                    1.000000  0.472164\n",
       "vertex                 0.472164  1.000000"
      ]
     },
     "execution_count": 201,
     "metadata": {},
     "output_type": "execute_result"
    }
   ],
   "source": [
    "tmp.groupby(['subject', 'stimulation_condition']).mean()['amplitude'].unstack('stimulation_condition').corr()"
   ]
  },
  {
   "cell_type": "code",
   "execution_count": 202,
   "metadata": {},
   "outputs": [
    {
     "data": {
      "text/html": [
       "<div>\n",
       "<style scoped>\n",
       "    .dataframe tbody tr th:only-of-type {\n",
       "        vertical-align: middle;\n",
       "    }\n",
       "\n",
       "    .dataframe tbody tr th {\n",
       "        vertical-align: top;\n",
       "    }\n",
       "\n",
       "    .dataframe thead th {\n",
       "        text-align: right;\n",
       "    }\n",
       "</style>\n",
       "<table border=\"1\" class=\"dataframe\">\n",
       "  <thead>\n",
       "    <tr style=\"text-align: right;\">\n",
       "      <th></th>\n",
       "      <th>n</th>\n",
       "      <th>r</th>\n",
       "      <th>CI95%</th>\n",
       "      <th>p-val</th>\n",
       "      <th>BF10</th>\n",
       "      <th>power</th>\n",
       "    </tr>\n",
       "  </thead>\n",
       "  <tbody>\n",
       "    <tr>\n",
       "      <th>pearson</th>\n",
       "      <td>34</td>\n",
       "      <td>0.039196</td>\n",
       "      <td>[-0.3, 0.37]</td>\n",
       "      <td>0.825803</td>\n",
       "      <td>0.218</td>\n",
       "      <td>0.05516</td>\n",
       "    </tr>\n",
       "  </tbody>\n",
       "</table>\n",
       "</div>"
      ],
      "text/plain": [
       "          n         r         CI95%     p-val   BF10    power\n",
       "pearson  34  0.039196  [-0.3, 0.37]  0.825803  0.218  0.05516"
      ]
     },
     "execution_count": 202,
     "metadata": {},
     "output_type": "execute_result"
    }
   ],
   "source": [
    "import pingouin\n",
    "pingouin.corr(diffs['amplitude_diff'], diffs['cognitive_noise_diff'])"
   ]
  },
  {
   "cell_type": "code",
   "execution_count": 203,
   "metadata": {},
   "outputs": [
    {
     "data": {
      "text/html": [
       "<div>\n",
       "<style scoped>\n",
       "    .dataframe tbody tr th:only-of-type {\n",
       "        vertical-align: middle;\n",
       "    }\n",
       "\n",
       "    .dataframe tbody tr th {\n",
       "        vertical-align: top;\n",
       "    }\n",
       "\n",
       "    .dataframe thead th {\n",
       "        text-align: right;\n",
       "    }\n",
       "</style>\n",
       "<table border=\"1\" class=\"dataframe\">\n",
       "  <thead>\n",
       "    <tr style=\"text-align: right;\">\n",
       "      <th></th>\n",
       "      <th>T</th>\n",
       "      <th>dof</th>\n",
       "      <th>alternative</th>\n",
       "      <th>p-val</th>\n",
       "      <th>CI95%</th>\n",
       "      <th>cohen-d</th>\n",
       "      <th>BF10</th>\n",
       "      <th>power</th>\n",
       "    </tr>\n",
       "  </thead>\n",
       "  <tbody>\n",
       "    <tr>\n",
       "      <th>T-test</th>\n",
       "      <td>-2.706309</td>\n",
       "      <td>33</td>\n",
       "      <td>two-sided</td>\n",
       "      <td>0.010686</td>\n",
       "      <td>[-0.54, -0.08]</td>\n",
       "      <td>0.464128</td>\n",
       "      <td>4.08</td>\n",
       "      <td>0.747577</td>\n",
       "    </tr>\n",
       "  </tbody>\n",
       "</table>\n",
       "</div>"
      ],
      "text/plain": [
       "               T  dof alternative     p-val           CI95%   cohen-d  BF10  \\\n",
       "T-test -2.706309   33   two-sided  0.010686  [-0.54, -0.08]  0.464128  4.08   \n",
       "\n",
       "           power  \n",
       "T-test  0.747577  "
      ]
     },
     "execution_count": 203,
     "metadata": {},
     "output_type": "execute_result"
    }
   ],
   "source": [
    "pingouin.ttest(diffs['amplitude_diff'], 0.0)"
   ]
  },
  {
   "cell_type": "code",
   "execution_count": 204,
   "metadata": {},
   "outputs": [
    {
     "data": {
      "text/html": [
       "<div>\n",
       "<style scoped>\n",
       "    .dataframe tbody tr th:only-of-type {\n",
       "        vertical-align: middle;\n",
       "    }\n",
       "\n",
       "    .dataframe tbody tr th {\n",
       "        vertical-align: top;\n",
       "    }\n",
       "\n",
       "    .dataframe thead th {\n",
       "        text-align: right;\n",
       "    }\n",
       "</style>\n",
       "<table border=\"1\" class=\"dataframe\">\n",
       "  <thead>\n",
       "    <tr style=\"text-align: right;\">\n",
       "      <th></th>\n",
       "      <th>n</th>\n",
       "      <th>r</th>\n",
       "      <th>CI95%</th>\n",
       "      <th>p-val</th>\n",
       "      <th>BF10</th>\n",
       "      <th>power</th>\n",
       "    </tr>\n",
       "  </thead>\n",
       "  <tbody>\n",
       "    <tr>\n",
       "      <th>pearson</th>\n",
       "      <td>35</td>\n",
       "      <td>-0.018392</td>\n",
       "      <td>[-0.35, 0.32]</td>\n",
       "      <td>0.916484</td>\n",
       "      <td>0.211</td>\n",
       "      <td>0.050828</td>\n",
       "    </tr>\n",
       "  </tbody>\n",
       "</table>\n",
       "</div>"
      ],
      "text/plain": [
       "          n         r          CI95%     p-val   BF10     power\n",
       "pearson  35 -0.018392  [-0.35, 0.32]  0.916484  0.211  0.050828"
      ]
     },
     "execution_count": 204,
     "metadata": {},
     "output_type": "execute_result"
    },
    {
     "data": {
      "image/png": "[encoded data removed]",
      "text/plain": [
       "<Figure size 500x500 with 1 Axes>"
      ]
     },
     "metadata": {},
     "output_type": "display_data"
    }
   ],
   "source": [
    "cvr2_diff = (pars['cvr2'] > 0.0).groupby(['subject', 'stimulation_condition']).mean().unstack('stimulation_condition')\n",
    "cvr2_diff = cvr2_diff['ips'] - cvr2_diff['vertex']\n",
    "\n",
    "cvr2_diff.index = cvr2_diff.index.astype(int)\n",
    "\n",
    "diffs = cvr2_diff.to_frame('cvr2_diff').join(cognitive_ips_effect.to_frame(\"cognitive_noise_diff\"))\n",
    "\n",
    "sns.lmplot(x='cvr2_diff', y='cognitive_noise_diff', data=diffs.reset_index(), robust=True)\n",
    "plt.axhline(0, color='k', linestyle='--')\n",
    "plt.axvline(0, color='k', linestyle='--')\n",
    "\n",
    "\n",
    "pingouin.corr(diffs['cvr2_diff'], diffs['cognitive_noise_diff'])"
   ]
  },
  {
   "cell_type": "code",
   "execution_count": 205,
   "metadata": {},
   "outputs": [
    {
     "data": {
      "text/html": [
       "<div>\n",
       "<style scoped>\n",
       "    .dataframe tbody tr th:only-of-type {\n",
       "        vertical-align: middle;\n",
       "    }\n",
       "\n",
       "    .dataframe tbody tr th {\n",
       "        vertical-align: top;\n",
       "    }\n",
       "\n",
       "    .dataframe thead th {\n",
       "        text-align: right;\n",
       "    }\n",
       "</style>\n",
       "<table border=\"1\" class=\"dataframe\">\n",
       "  <thead>\n",
       "    <tr style=\"text-align: right;\">\n",
       "      <th></th>\n",
       "      <th>n</th>\n",
       "      <th>r</th>\n",
       "      <th>CI95%</th>\n",
       "      <th>p-val</th>\n",
       "      <th>BF10</th>\n",
       "      <th>power</th>\n",
       "    </tr>\n",
       "  </thead>\n",
       "  <tbody>\n",
       "    <tr>\n",
       "      <th>pearson</th>\n",
       "      <td>35</td>\n",
       "      <td>0.059982</td>\n",
       "      <td>[-0.28, 0.39]</td>\n",
       "      <td>0.73214</td>\n",
       "      <td>0.223</td>\n",
       "      <td>0.063203</td>\n",
       "    </tr>\n",
       "  </tbody>\n",
       "</table>\n",
       "</div>"
      ],
      "text/plain": [
       "          n         r          CI95%    p-val   BF10     power\n",
       "pearson  35  0.059982  [-0.28, 0.39]  0.73214  0.223  0.063203"
      ]
     },
     "execution_count": 205,
     "metadata": {},
     "output_type": "execute_result"
    }
   ],
   "source": [
    "diff_amplitude_bayes = pd.read_csv(op.join(bids_folder, 'derivatives', 'encoding_model', 'diff_amplitude.tsv'), sep='\\t', index_col=0)\n",
    "\n",
    "\n",
    "diffs_ = diff_amplitude_bayes.join(cognitive_ips_effect.to_frame(\"cognitive_noise_diff\"))\n",
    "\n",
    "pingouin.corr(diffs_['diff_amplitude'], diffs_['cognitive_noise_diff'])"
   ]
  },
  {
   "cell_type": "code",
   "execution_count": 206,
   "metadata": {},
   "outputs": [
    {
     "data": {
      "text/html": [
       "<div>\n",
       "<style scoped>\n",
       "    .dataframe tbody tr th:only-of-type {\n",
       "        vertical-align: middle;\n",
       "    }\n",
       "\n",
       "    .dataframe tbody tr th {\n",
       "        vertical-align: top;\n",
       "    }\n",
       "\n",
       "    .dataframe thead th {\n",
       "        text-align: right;\n",
       "    }\n",
       "</style>\n",
       "<table border=\"1\" class=\"dataframe\">\n",
       "  <thead>\n",
       "    <tr style=\"text-align: right;\">\n",
       "      <th></th>\n",
       "      <th>amplitude_diff_freq</th>\n",
       "      <th>diff_amplitude</th>\n",
       "    </tr>\n",
       "  </thead>\n",
       "  <tbody>\n",
       "    <tr>\n",
       "      <th>amplitude_diff_freq</th>\n",
       "      <td>1.000000</td>\n",
       "      <td>0.674966</td>\n",
       "    </tr>\n",
       "    <tr>\n",
       "      <th>diff_amplitude</th>\n",
       "      <td>0.674966</td>\n",
       "      <td>1.000000</td>\n",
       "    </tr>\n",
       "  </tbody>\n",
       "</table>\n",
       "</div>"
      ],
      "text/plain": [
       "                     amplitude_diff_freq  diff_amplitude\n",
       "amplitude_diff_freq             1.000000        0.674966\n",
       "diff_amplitude                  0.674966        1.000000"
      ]
     },
     "execution_count": 206,
     "metadata": {},
     "output_type": "execute_result"
    }
   ],
   "source": [
    "amplitude_diff.to_frame('amplitude_diff_freq').join(diff_amplitude_bayes).corr()"
   ]
  },
  {
   "cell_type": "markdown",
   "metadata": {},
   "source": [
    "# Compare to decoding dip"
   ]
  },
  {
   "cell_type": "code",
   "execution_count": 207,
   "metadata": {},
   "outputs": [
    {
     "data": {
      "application/vnd.jupyter.widget-view+json": {
       "model_id": "1bf108ee1f874541b1270fa4b204405f",
       "version_major": 2,
       "version_minor": 0
      },
      "text/plain": [
       "  0%|          | 0/70 [00:00<?, ?it/s]"
      ]
     },
     "metadata": {},
     "output_type": "display_data"
    }
   ],
   "source": [
    "from tms_risk.utils.data import get_pdf, get_decoding_info, get_all_behavior\n",
    "\n",
    "\n",
    "subjects = [int(sub.subject) for sub in get_subjects(all_tms_conditions=True, exclude_outliers=True)]\n",
    "sessions = [2, 3]\n",
    "pca_confounds = [False]\n",
    "denoise = [True]\n",
    "smoothed = [False]\n",
    "# masks = ['NPCr1cm-surface', 'NPCr1cm-cluster', 'NPCr2cm-surface', 'NPCr2cm-cluster']\n",
    "# n_voxels = [0, 1, 100]\n",
    "masks = ['NPCr2cm-cluster']\n",
    "n_voxels = [1]\n",
    "natural_space = [True]\n",
    "\n",
    "\n",
    "pred = []\n",
    "pdfs = []\n",
    "for (sub, session, pcac, den, smooth, mask, nv, ns) in product(subjects, sessions, pca_confounds, denoise, smoothed, masks, n_voxels, natural_space):\n",
    "\n",
    "    if not ((session == 1) & (nv == 0)):\n",
    "        pdfs.append(get_pdf(sub, session, pcac, den, smooth, '/data/ds-tmsrisk/', mask, nv, ns))\n",
    "        pred.append(get_decoding_info(sub, session, pcac, den, smooth, '/data/ds-tmsrisk', mask, nv, ns))"
   ]
  },
  {
   "cell_type": "code",
   "execution_count": 208,
   "metadata": {},
   "outputs": [
    {
     "name": "stderr",
     "output_type": "stream",
     "text": [
      "/Users/gdehol/git/tms_risk/tms_risk/utils/data.py:150: UserWarning: Subject 10/session 1 has only 5 runs!!\n",
      "  warnings.warn('Subject 10/session 1 has only 5 runs!!')\n",
      "/Users/gdehol/git/tms_risk/tms_risk/utils/data.py:56: FutureWarning: In a future version, object-dtype columns with all-bool values will not be included in reductions with bool_only=True. Explicitly cast to bool dtype instead.\n",
      "  return pd.concat(behavior)\n",
      "/var/folders/d4/cpqhwlbn301clph1qk64k01nmjkty3/T/ipykernel_8438/884262180.py:7: FutureWarning: The default value of numeric_only in DataFrameGroupBy.mean is deprecated. In a future version, numeric_only will default to False. Either specify numeric_only or select only columns which should be valid for the function.\n",
      "  r2 = r2_.groupby(['subject', 'session', 'stimulation_condition', 'pca', 'glm', 'smoothed', 'mask', 'n_voxels']).mean()\n"
     ]
    }
   ],
   "source": [
    "pred = pd.concat(pred)\n",
    "pdf = pd.concat(pdfs)\n",
    "df = get_all_behavior(drop_no_responses=False)\n",
    "pred = pred.join(df, how='inner')\n",
    "r1 = pred.groupby(['subject', 'session', 'stimulation_condition', 'pca', 'glm', 'smoothed', 'mask', 'n_voxels']).apply(lambda d: pingouin.corr(d['E'], d['n1']))\n",
    "r2_ = pred.groupby(['subject', 'session', 'stimulation_condition', 'pca', 'glm', 'smoothed', 'mask', 'n_voxels', 'run']).apply(lambda d: pingouin.corr(d['E'], d['n1']))\n",
    "r2 = r2_.groupby(['subject', 'session', 'stimulation_condition', 'pca', 'glm', 'smoothed', 'mask', 'n_voxels']).mean()"
   ]
  },
  {
   "cell_type": "code",
   "execution_count": 209,
   "metadata": {},
   "outputs": [],
   "source": [
    "decoding_diff = r2.droplevel('session').unstack('stimulation_condition')['r']\n",
    "decoding_diff = (decoding_diff['ips'] - decoding_diff['vertex']).to_frame('decoding_diff')"
   ]
  },
  {
   "cell_type": "code",
   "execution_count": 217,
   "metadata": {},
   "outputs": [
    {
     "name": "stderr",
     "output_type": "stream",
     "text": [
      "/var/folders/d4/cpqhwlbn301clph1qk64k01nmjkty3/T/ipykernel_8438/3963465035.py:1: UserWarning: \n",
      "\n",
      "`distplot` is a deprecated function and will be removed in seaborn v0.14.0.\n",
      "\n",
      "Please adapt your code to use either `displot` (a figure-level function with\n",
      "similar flexibility) or `histplot` (an axes-level function for histograms).\n",
      "\n",
      "For a guide to updating your code to use the new functions, please see\n",
      "https://gist.github.com/mwaskom/de44147ed2974457ad6372750bbe5751\n",
      "\n",
      "  sns.distplot(decoding_diff)\n"
     ]
    },
    {
     "data": {
      "text/plain": [
       "<Axes: ylabel='Density'>"
      ]
     },
     "execution_count": 217,
     "metadata": {},
     "output_type": "execute_result"
    },
    {
     "data": {
      "image/png": "[encoded data removed]",
      "text/plain": [
       "<Figure size 640x480 with 1 Axes>"
      ]
     },
     "metadata": {},
     "output_type": "display_data"
    }
   ],
   "source": [
    "sns.distplot(decoding_diff)"
   ]
  },
  {
   "cell_type": "markdown",
   "metadata": {},
   "source": []
  },
  {
   "cell_type": "code",
   "execution_count": 210,
   "metadata": {},
   "outputs": [],
   "source": [
    "diffs = cognitive_ips_effect.to_frame('cognitive_ips_effect').join(decoding_diff).join(amplitude_diff.to_frame('amplitude_diff'))"
   ]
  },
  {
   "cell_type": "code",
   "execution_count": 211,
   "metadata": {},
   "outputs": [
    {
     "data": {
      "text/html": [
       "<div>\n",
       "<style scoped>\n",
       "    .dataframe tbody tr th:only-of-type {\n",
       "        vertical-align: middle;\n",
       "    }\n",
       "\n",
       "    .dataframe tbody tr th {\n",
       "        vertical-align: top;\n",
       "    }\n",
       "\n",
       "    .dataframe thead th {\n",
       "        text-align: right;\n",
       "    }\n",
       "</style>\n",
       "<table border=\"1\" class=\"dataframe\">\n",
       "  <thead>\n",
       "    <tr style=\"text-align: right;\">\n",
       "      <th></th>\n",
       "      <th>n</th>\n",
       "      <th>r</th>\n",
       "      <th>CI95%</th>\n",
       "      <th>p-val</th>\n",
       "      <th>BF10</th>\n",
       "      <th>power</th>\n",
       "    </tr>\n",
       "  </thead>\n",
       "  <tbody>\n",
       "    <tr>\n",
       "      <th>pearson</th>\n",
       "      <td>35</td>\n",
       "      <td>0.152177</td>\n",
       "      <td>[-0.19, 0.46]</td>\n",
       "      <td>0.38283</td>\n",
       "      <td>0.303</td>\n",
       "      <td>0.141514</td>\n",
       "    </tr>\n",
       "  </tbody>\n",
       "</table>\n",
       "</div>"
      ],
      "text/plain": [
       "          n         r          CI95%    p-val   BF10     power\n",
       "pearson  35  0.152177  [-0.19, 0.46]  0.38283  0.303  0.141514"
      ]
     },
     "execution_count": 211,
     "metadata": {},
     "output_type": "execute_result"
    },
    {
     "data": {
      "image/png": "[encoded data removed]",
      "text/plain": [
       "<Figure size 500x500 with 1 Axes>"
      ]
     },
     "metadata": {},
     "output_type": "display_data"
    }
   ],
   "source": [
    "sns.lmplot(diffs, x='cognitive_ips_effect', y='decoding_diff')\n",
    "\n",
    "pingouin.corr(diffs['cognitive_ips_effect'], diffs['decoding_diff'])"
   ]
  },
  {
   "cell_type": "code",
   "execution_count": 212,
   "metadata": {},
   "outputs": [
    {
     "data": {
      "text/html": [
       "<div>\n",
       "<style scoped>\n",
       "    .dataframe tbody tr th:only-of-type {\n",
       "        vertical-align: middle;\n",
       "    }\n",
       "\n",
       "    .dataframe tbody tr th {\n",
       "        vertical-align: top;\n",
       "    }\n",
       "\n",
       "    .dataframe thead th {\n",
       "        text-align: right;\n",
       "    }\n",
       "</style>\n",
       "<table border=\"1\" class=\"dataframe\">\n",
       "  <thead>\n",
       "    <tr style=\"text-align: right;\">\n",
       "      <th></th>\n",
       "      <th>cognitive_ips_effect</th>\n",
       "      <th>decoding_diff</th>\n",
       "      <th>amplitude_diff</th>\n",
       "    </tr>\n",
       "  </thead>\n",
       "  <tbody>\n",
       "    <tr>\n",
       "      <th>cognitive_ips_effect</th>\n",
       "      <td>1.000000</td>\n",
       "      <td>0.152177</td>\n",
       "      <td>0.039196</td>\n",
       "    </tr>\n",
       "    <tr>\n",
       "      <th>decoding_diff</th>\n",
       "      <td>0.152177</td>\n",
       "      <td>1.000000</td>\n",
       "      <td>0.293859</td>\n",
       "    </tr>\n",
       "    <tr>\n",
       "      <th>amplitude_diff</th>\n",
       "      <td>0.039196</td>\n",
       "      <td>0.293859</td>\n",
       "      <td>1.000000</td>\n",
       "    </tr>\n",
       "  </tbody>\n",
       "</table>\n",
       "</div>"
      ],
      "text/plain": [
       "                      cognitive_ips_effect  decoding_diff  amplitude_diff\n",
       "cognitive_ips_effect              1.000000       0.152177        0.039196\n",
       "decoding_diff                     0.152177       1.000000        0.293859\n",
       "amplitude_diff                    0.039196       0.293859        1.000000"
      ]
     },
     "execution_count": 212,
     "metadata": {},
     "output_type": "execute_result"
    }
   ],
   "source": [
    "diffs.corr()"
   ]
  },
  {
   "cell_type": "code",
   "execution_count": 213,
   "metadata": {},
   "outputs": [
    {
     "data": {
      "text/html": [
       "<div>\n",
       "<style scoped>\n",
       "    .dataframe tbody tr th:only-of-type {\n",
       "        vertical-align: middle;\n",
       "    }\n",
       "\n",
       "    .dataframe tbody tr th {\n",
       "        vertical-align: top;\n",
       "    }\n",
       "\n",
       "    .dataframe thead th {\n",
       "        text-align: right;\n",
       "    }\n",
       "</style>\n",
       "<table border=\"1\" class=\"dataframe\">\n",
       "  <thead>\n",
       "    <tr style=\"text-align: right;\">\n",
       "      <th>stimulation_condition</th>\n",
       "      <th>ips</th>\n",
       "      <th>vertex</th>\n",
       "    </tr>\n",
       "    <tr>\n",
       "      <th>stimulation_condition</th>\n",
       "      <th></th>\n",
       "      <th></th>\n",
       "    </tr>\n",
       "  </thead>\n",
       "  <tbody>\n",
       "    <tr>\n",
       "      <th>ips</th>\n",
       "      <td>1.000000</td>\n",
       "      <td>0.406569</td>\n",
       "    </tr>\n",
       "    <tr>\n",
       "      <th>vertex</th>\n",
       "      <td>0.406569</td>\n",
       "      <td>1.000000</td>\n",
       "    </tr>\n",
       "  </tbody>\n",
       "</table>\n",
       "</div>"
      ],
      "text/plain": [
       "stimulation_condition       ips    vertex\n",
       "stimulation_condition                    \n",
       "ips                    1.000000  0.406569\n",
       "vertex                 0.406569  1.000000"
      ]
     },
     "execution_count": 213,
     "metadata": {},
     "output_type": "execute_result"
    }
   ],
   "source": [
    "r2.droplevel('session').unstack('stimulation_condition')['r'].corr()"
   ]
  },
  {
   "cell_type": "code",
   "execution_count": 214,
   "metadata": {},
   "outputs": [
    {
     "data": {
      "text/plain": [
       "0.453626017535738"
      ]
     },
     "execution_count": 214,
     "metadata": {},
     "output_type": "execute_result"
    }
   ],
   "source": [
    "pingouin.power_corr(n=35, alpha=0.05, power=0.8)"
   ]
  },
  {
   "cell_type": "code",
   "execution_count": 215,
   "metadata": {},
   "outputs": [
    {
     "data": {
      "text/html": [
       "<div>\n",
       "<style scoped>\n",
       "    .dataframe tbody tr th:only-of-type {\n",
       "        vertical-align: middle;\n",
       "    }\n",
       "\n",
       "    .dataframe tbody tr th {\n",
       "        vertical-align: top;\n",
       "    }\n",
       "\n",
       "    .dataframe thead th {\n",
       "        text-align: right;\n",
       "    }\n",
       "</style>\n",
       "<table border=\"1\" class=\"dataframe\">\n",
       "  <thead>\n",
       "    <tr style=\"text-align: right;\">\n",
       "      <th></th>\n",
       "      <th></th>\n",
       "      <th></th>\n",
       "      <th></th>\n",
       "      <th></th>\n",
       "      <th>stimulation_condition</th>\n",
       "      <th>ips</th>\n",
       "      <th>vertex</th>\n",
       "    </tr>\n",
       "    <tr>\n",
       "      <th>subject</th>\n",
       "      <th>pca</th>\n",
       "      <th>glm</th>\n",
       "      <th>smoothed</th>\n",
       "      <th>mask</th>\n",
       "      <th>n_voxels</th>\n",
       "      <th></th>\n",
       "      <th></th>\n",
       "    </tr>\n",
       "  </thead>\n",
       "  <tbody>\n",
       "    <tr>\n",
       "      <th>1</th>\n",
       "      <th>no pca</th>\n",
       "      <th>GLMstim</th>\n",
       "      <th>not smoothed</th>\n",
       "      <th>NPCr2cm-cluster</th>\n",
       "      <th>1</th>\n",
       "      <td>0.024520</td>\n",
       "      <td>0.077764</td>\n",
       "    </tr>\n",
       "    <tr>\n",
       "      <th>2</th>\n",
       "      <th>no pca</th>\n",
       "      <th>GLMstim</th>\n",
       "      <th>not smoothed</th>\n",
       "      <th>NPCr2cm-cluster</th>\n",
       "      <th>1</th>\n",
       "      <td>-0.103584</td>\n",
       "      <td>0.182301</td>\n",
       "    </tr>\n",
       "    <tr>\n",
       "      <th>3</th>\n",
       "      <th>no pca</th>\n",
       "      <th>GLMstim</th>\n",
       "      <th>not smoothed</th>\n",
       "      <th>NPCr2cm-cluster</th>\n",
       "      <th>1</th>\n",
       "      <td>0.307780</td>\n",
       "      <td>0.127747</td>\n",
       "    </tr>\n",
       "    <tr>\n",
       "      <th>4</th>\n",
       "      <th>no pca</th>\n",
       "      <th>GLMstim</th>\n",
       "      <th>not smoothed</th>\n",
       "      <th>NPCr2cm-cluster</th>\n",
       "      <th>1</th>\n",
       "      <td>0.124063</td>\n",
       "      <td>0.146527</td>\n",
       "    </tr>\n",
       "    <tr>\n",
       "      <th>5</th>\n",
       "      <th>no pca</th>\n",
       "      <th>GLMstim</th>\n",
       "      <th>not smoothed</th>\n",
       "      <th>NPCr2cm-cluster</th>\n",
       "      <th>1</th>\n",
       "      <td>-0.020636</td>\n",
       "      <td>0.161589</td>\n",
       "    </tr>\n",
       "    <tr>\n",
       "      <th>6</th>\n",
       "      <th>no pca</th>\n",
       "      <th>GLMstim</th>\n",
       "      <th>not smoothed</th>\n",
       "      <th>NPCr2cm-cluster</th>\n",
       "      <th>1</th>\n",
       "      <td>-0.000955</td>\n",
       "      <td>0.172429</td>\n",
       "    </tr>\n",
       "    <tr>\n",
       "      <th>7</th>\n",
       "      <th>no pca</th>\n",
       "      <th>GLMstim</th>\n",
       "      <th>not smoothed</th>\n",
       "      <th>NPCr2cm-cluster</th>\n",
       "      <th>1</th>\n",
       "      <td>-0.032402</td>\n",
       "      <td>0.300763</td>\n",
       "    </tr>\n",
       "    <tr>\n",
       "      <th>9</th>\n",
       "      <th>no pca</th>\n",
       "      <th>GLMstim</th>\n",
       "      <th>not smoothed</th>\n",
       "      <th>NPCr2cm-cluster</th>\n",
       "      <th>1</th>\n",
       "      <td>-0.082798</td>\n",
       "      <td>0.125200</td>\n",
       "    </tr>\n",
       "    <tr>\n",
       "      <th>10</th>\n",
       "      <th>no pca</th>\n",
       "      <th>GLMstim</th>\n",
       "      <th>not smoothed</th>\n",
       "      <th>NPCr2cm-cluster</th>\n",
       "      <th>1</th>\n",
       "      <td>0.142570</td>\n",
       "      <td>0.341158</td>\n",
       "    </tr>\n",
       "    <tr>\n",
       "      <th>11</th>\n",
       "      <th>no pca</th>\n",
       "      <th>GLMstim</th>\n",
       "      <th>not smoothed</th>\n",
       "      <th>NPCr2cm-cluster</th>\n",
       "      <th>1</th>\n",
       "      <td>0.168903</td>\n",
       "      <td>0.337095</td>\n",
       "    </tr>\n",
       "    <tr>\n",
       "      <th>18</th>\n",
       "      <th>no pca</th>\n",
       "      <th>GLMstim</th>\n",
       "      <th>not smoothed</th>\n",
       "      <th>NPCr2cm-cluster</th>\n",
       "      <th>1</th>\n",
       "      <td>0.240601</td>\n",
       "      <td>0.250469</td>\n",
       "    </tr>\n",
       "    <tr>\n",
       "      <th>19</th>\n",
       "      <th>no pca</th>\n",
       "      <th>GLMstim</th>\n",
       "      <th>not smoothed</th>\n",
       "      <th>NPCr2cm-cluster</th>\n",
       "      <th>1</th>\n",
       "      <td>0.224217</td>\n",
       "      <td>0.118415</td>\n",
       "    </tr>\n",
       "    <tr>\n",
       "      <th>21</th>\n",
       "      <th>no pca</th>\n",
       "      <th>GLMstim</th>\n",
       "      <th>not smoothed</th>\n",
       "      <th>NPCr2cm-cluster</th>\n",
       "      <th>1</th>\n",
       "      <td>0.020292</td>\n",
       "      <td>0.077301</td>\n",
       "    </tr>\n",
       "    <tr>\n",
       "      <th>25</th>\n",
       "      <th>no pca</th>\n",
       "      <th>GLMstim</th>\n",
       "      <th>not smoothed</th>\n",
       "      <th>NPCr2cm-cluster</th>\n",
       "      <th>1</th>\n",
       "      <td>0.265192</td>\n",
       "      <td>0.292020</td>\n",
       "    </tr>\n",
       "    <tr>\n",
       "      <th>26</th>\n",
       "      <th>no pca</th>\n",
       "      <th>GLMstim</th>\n",
       "      <th>not smoothed</th>\n",
       "      <th>NPCr2cm-cluster</th>\n",
       "      <th>1</th>\n",
       "      <td>0.041169</td>\n",
       "      <td>-0.094891</td>\n",
       "    </tr>\n",
       "    <tr>\n",
       "      <th>29</th>\n",
       "      <th>no pca</th>\n",
       "      <th>GLMstim</th>\n",
       "      <th>not smoothed</th>\n",
       "      <th>NPCr2cm-cluster</th>\n",
       "      <th>1</th>\n",
       "      <td>0.119572</td>\n",
       "      <td>0.158318</td>\n",
       "    </tr>\n",
       "    <tr>\n",
       "      <th>30</th>\n",
       "      <th>no pca</th>\n",
       "      <th>GLMstim</th>\n",
       "      <th>not smoothed</th>\n",
       "      <th>NPCr2cm-cluster</th>\n",
       "      <th>1</th>\n",
       "      <td>0.181853</td>\n",
       "      <td>0.106056</td>\n",
       "    </tr>\n",
       "    <tr>\n",
       "      <th>31</th>\n",
       "      <th>no pca</th>\n",
       "      <th>GLMstim</th>\n",
       "      <th>not smoothed</th>\n",
       "      <th>NPCr2cm-cluster</th>\n",
       "      <th>1</th>\n",
       "      <td>0.124318</td>\n",
       "      <td>0.052945</td>\n",
       "    </tr>\n",
       "    <tr>\n",
       "      <th>34</th>\n",
       "      <th>no pca</th>\n",
       "      <th>GLMstim</th>\n",
       "      <th>not smoothed</th>\n",
       "      <th>NPCr2cm-cluster</th>\n",
       "      <th>1</th>\n",
       "      <td>0.032899</td>\n",
       "      <td>0.118210</td>\n",
       "    </tr>\n",
       "    <tr>\n",
       "      <th>35</th>\n",
       "      <th>no pca</th>\n",
       "      <th>GLMstim</th>\n",
       "      <th>not smoothed</th>\n",
       "      <th>NPCr2cm-cluster</th>\n",
       "      <th>1</th>\n",
       "      <td>-0.074027</td>\n",
       "      <td>-0.069061</td>\n",
       "    </tr>\n",
       "    <tr>\n",
       "      <th>36</th>\n",
       "      <th>no pca</th>\n",
       "      <th>GLMstim</th>\n",
       "      <th>not smoothed</th>\n",
       "      <th>NPCr2cm-cluster</th>\n",
       "      <th>1</th>\n",
       "      <td>0.060822</td>\n",
       "      <td>0.040261</td>\n",
       "    </tr>\n",
       "    <tr>\n",
       "      <th>37</th>\n",
       "      <th>no pca</th>\n",
       "      <th>GLMstim</th>\n",
       "      <th>not smoothed</th>\n",
       "      <th>NPCr2cm-cluster</th>\n",
       "      <th>1</th>\n",
       "      <td>0.321293</td>\n",
       "      <td>0.236370</td>\n",
       "    </tr>\n",
       "    <tr>\n",
       "      <th>45</th>\n",
       "      <th>no pca</th>\n",
       "      <th>GLMstim</th>\n",
       "      <th>not smoothed</th>\n",
       "      <th>NPCr2cm-cluster</th>\n",
       "      <th>1</th>\n",
       "      <td>0.057399</td>\n",
       "      <td>0.139254</td>\n",
       "    </tr>\n",
       "    <tr>\n",
       "      <th>46</th>\n",
       "      <th>no pca</th>\n",
       "      <th>GLMstim</th>\n",
       "      <th>not smoothed</th>\n",
       "      <th>NPCr2cm-cluster</th>\n",
       "      <th>1</th>\n",
       "      <td>0.163876</td>\n",
       "      <td>0.299885</td>\n",
       "    </tr>\n",
       "    <tr>\n",
       "      <th>47</th>\n",
       "      <th>no pca</th>\n",
       "      <th>GLMstim</th>\n",
       "      <th>not smoothed</th>\n",
       "      <th>NPCr2cm-cluster</th>\n",
       "      <th>1</th>\n",
       "      <td>0.043066</td>\n",
       "      <td>0.005987</td>\n",
       "    </tr>\n",
       "    <tr>\n",
       "      <th>50</th>\n",
       "      <th>no pca</th>\n",
       "      <th>GLMstim</th>\n",
       "      <th>not smoothed</th>\n",
       "      <th>NPCr2cm-cluster</th>\n",
       "      <th>1</th>\n",
       "      <td>-0.143981</td>\n",
       "      <td>-0.063665</td>\n",
       "    </tr>\n",
       "    <tr>\n",
       "      <th>53</th>\n",
       "      <th>no pca</th>\n",
       "      <th>GLMstim</th>\n",
       "      <th>not smoothed</th>\n",
       "      <th>NPCr2cm-cluster</th>\n",
       "      <th>1</th>\n",
       "      <td>0.131847</td>\n",
       "      <td>0.150454</td>\n",
       "    </tr>\n",
       "    <tr>\n",
       "      <th>56</th>\n",
       "      <th>no pca</th>\n",
       "      <th>GLMstim</th>\n",
       "      <th>not smoothed</th>\n",
       "      <th>NPCr2cm-cluster</th>\n",
       "      <th>1</th>\n",
       "      <td>-0.076924</td>\n",
       "      <td>0.023913</td>\n",
       "    </tr>\n",
       "    <tr>\n",
       "      <th>59</th>\n",
       "      <th>no pca</th>\n",
       "      <th>GLMstim</th>\n",
       "      <th>not smoothed</th>\n",
       "      <th>NPCr2cm-cluster</th>\n",
       "      <th>1</th>\n",
       "      <td>0.255737</td>\n",
       "      <td>0.249175</td>\n",
       "    </tr>\n",
       "    <tr>\n",
       "      <th>62</th>\n",
       "      <th>no pca</th>\n",
       "      <th>GLMstim</th>\n",
       "      <th>not smoothed</th>\n",
       "      <th>NPCr2cm-cluster</th>\n",
       "      <th>1</th>\n",
       "      <td>0.004692</td>\n",
       "      <td>0.212203</td>\n",
       "    </tr>\n",
       "    <tr>\n",
       "      <th>63</th>\n",
       "      <th>no pca</th>\n",
       "      <th>GLMstim</th>\n",
       "      <th>not smoothed</th>\n",
       "      <th>NPCr2cm-cluster</th>\n",
       "      <th>1</th>\n",
       "      <td>0.305456</td>\n",
       "      <td>0.001710</td>\n",
       "    </tr>\n",
       "    <tr>\n",
       "      <th>67</th>\n",
       "      <th>no pca</th>\n",
       "      <th>GLMstim</th>\n",
       "      <th>not smoothed</th>\n",
       "      <th>NPCr2cm-cluster</th>\n",
       "      <th>1</th>\n",
       "      <td>-0.033286</td>\n",
       "      <td>0.081757</td>\n",
       "    </tr>\n",
       "    <tr>\n",
       "      <th>69</th>\n",
       "      <th>no pca</th>\n",
       "      <th>GLMstim</th>\n",
       "      <th>not smoothed</th>\n",
       "      <th>NPCr2cm-cluster</th>\n",
       "      <th>1</th>\n",
       "      <td>0.143359</td>\n",
       "      <td>0.138493</td>\n",
       "    </tr>\n",
       "    <tr>\n",
       "      <th>72</th>\n",
       "      <th>no pca</th>\n",
       "      <th>GLMstim</th>\n",
       "      <th>not smoothed</th>\n",
       "      <th>NPCr2cm-cluster</th>\n",
       "      <th>1</th>\n",
       "      <td>0.188508</td>\n",
       "      <td>0.296474</td>\n",
       "    </tr>\n",
       "    <tr>\n",
       "      <th>74</th>\n",
       "      <th>no pca</th>\n",
       "      <th>GLMstim</th>\n",
       "      <th>not smoothed</th>\n",
       "      <th>NPCr2cm-cluster</th>\n",
       "      <th>1</th>\n",
       "      <td>0.105723</td>\n",
       "      <td>0.171760</td>\n",
       "    </tr>\n",
       "  </tbody>\n",
       "</table>\n",
       "</div>"
      ],
      "text/plain": [
       "stimulation_condition                                              ips  \\\n",
       "subject pca    glm     smoothed     mask            n_voxels             \n",
       "1       no pca GLMstim not smoothed NPCr2cm-cluster 1         0.024520   \n",
       "2       no pca GLMstim not smoothed NPCr2cm-cluster 1        -0.103584   \n",
       "3       no pca GLMstim not smoothed NPCr2cm-cluster 1         0.307780   \n",
       "4       no pca GLMstim not smoothed NPCr2cm-cluster 1         0.124063   \n",
       "5       no pca GLMstim not smoothed NPCr2cm-cluster 1        -0.020636   \n",
       "6       no pca GLMstim not smoothed NPCr2cm-cluster 1        -0.000955   \n",
       "7       no pca GLMstim not smoothed NPCr2cm-cluster 1        -0.032402   \n",
       "9       no pca GLMstim not smoothed NPCr2cm-cluster 1        -0.082798   \n",
       "10      no pca GLMstim not smoothed NPCr2cm-cluster 1         0.142570   \n",
       "11      no pca GLMstim not smoothed NPCr2cm-cluster 1         0.168903   \n",
       "18      no pca GLMstim not smoothed NPCr2cm-cluster 1         0.240601   \n",
       "19      no pca GLMstim not smoothed NPCr2cm-cluster 1         0.224217   \n",
       "21      no pca GLMstim not smoothed NPCr2cm-cluster 1         0.020292   \n",
       "25      no pca GLMstim not smoothed NPCr2cm-cluster 1         0.265192   \n",
       "26      no pca GLMstim not smoothed NPCr2cm-cluster 1         0.041169   \n",
       "29      no pca GLMstim not smoothed NPCr2cm-cluster 1         0.119572   \n",
       "30      no pca GLMstim not smoothed NPCr2cm-cluster 1         0.181853   \n",
       "31      no pca GLMstim not smoothed NPCr2cm-cluster 1         0.124318   \n",
       "34      no pca GLMstim not smoothed NPCr2cm-cluster 1         0.032899   \n",
       "35      no pca GLMstim not smoothed NPCr2cm-cluster 1        -0.074027   \n",
       "36      no pca GLMstim not smoothed NPCr2cm-cluster 1         0.060822   \n",
       "37      no pca GLMstim not smoothed NPCr2cm-cluster 1         0.321293   \n",
       "45      no pca GLMstim not smoothed NPCr2cm-cluster 1         0.057399   \n",
       "46      no pca GLMstim not smoothed NPCr2cm-cluster 1         0.163876   \n",
       "47      no pca GLMstim not smoothed NPCr2cm-cluster 1         0.043066   \n",
       "50      no pca GLMstim not smoothed NPCr2cm-cluster 1        -0.143981   \n",
       "53      no pca GLMstim not smoothed NPCr2cm-cluster 1         0.131847   \n",
       "56      no pca GLMstim not smoothed NPCr2cm-cluster 1        -0.076924   \n",
       "59      no pca GLMstim not smoothed NPCr2cm-cluster 1         0.255737   \n",
       "62      no pca GLMstim not smoothed NPCr2cm-cluster 1         0.004692   \n",
       "63      no pca GLMstim not smoothed NPCr2cm-cluster 1         0.305456   \n",
       "67      no pca GLMstim not smoothed NPCr2cm-cluster 1        -0.033286   \n",
       "69      no pca GLMstim not smoothed NPCr2cm-cluster 1         0.143359   \n",
       "72      no pca GLMstim not smoothed NPCr2cm-cluster 1         0.188508   \n",
       "74      no pca GLMstim not smoothed NPCr2cm-cluster 1         0.105723   \n",
       "\n",
       "stimulation_condition                                           vertex  \n",
       "subject pca    glm     smoothed     mask            n_voxels            \n",
       "1       no pca GLMstim not smoothed NPCr2cm-cluster 1         0.077764  \n",
       "2       no pca GLMstim not smoothed NPCr2cm-cluster 1         0.182301  \n",
       "3       no pca GLMstim not smoothed NPCr2cm-cluster 1         0.127747  \n",
       "4       no pca GLMstim not smoothed NPCr2cm-cluster 1         0.146527  \n",
       "5       no pca GLMstim not smoothed NPCr2cm-cluster 1         0.161589  \n",
       "6       no pca GLMstim not smoothed NPCr2cm-cluster 1         0.172429  \n",
       "7       no pca GLMstim not smoothed NPCr2cm-cluster 1         0.300763  \n",
       "9       no pca GLMstim not smoothed NPCr2cm-cluster 1         0.125200  \n",
       "10      no pca GLMstim not smoothed NPCr2cm-cluster 1         0.341158  \n",
       "11      no pca GLMstim not smoothed NPCr2cm-cluster 1         0.337095  \n",
       "18      no pca GLMstim not smoothed NPCr2cm-cluster 1         0.250469  \n",
       "19      no pca GLMstim not smoothed NPCr2cm-cluster 1         0.118415  \n",
       "21      no pca GLMstim not smoothed NPCr2cm-cluster 1         0.077301  \n",
       "25      no pca GLMstim not smoothed NPCr2cm-cluster 1         0.292020  \n",
       "26      no pca GLMstim not smoothed NPCr2cm-cluster 1        -0.094891  \n",
       "29      no pca GLMstim not smoothed NPCr2cm-cluster 1         0.158318  \n",
       "30      no pca GLMstim not smoothed NPCr2cm-cluster 1         0.106056  \n",
       "31      no pca GLMstim not smoothed NPCr2cm-cluster 1         0.052945  \n",
       "34      no pca GLMstim not smoothed NPCr2cm-cluster 1         0.118210  \n",
       "35      no pca GLMstim not smoothed NPCr2cm-cluster 1        -0.069061  \n",
       "36      no pca GLMstim not smoothed NPCr2cm-cluster 1         0.040261  \n",
       "37      no pca GLMstim not smoothed NPCr2cm-cluster 1         0.236370  \n",
       "45      no pca GLMstim not smoothed NPCr2cm-cluster 1         0.139254  \n",
       "46      no pca GLMstim not smoothed NPCr2cm-cluster 1         0.299885  \n",
       "47      no pca GLMstim not smoothed NPCr2cm-cluster 1         0.005987  \n",
       "50      no pca GLMstim not smoothed NPCr2cm-cluster 1        -0.063665  \n",
       "53      no pca GLMstim not smoothed NPCr2cm-cluster 1         0.150454  \n",
       "56      no pca GLMstim not smoothed NPCr2cm-cluster 1         0.023913  \n",
       "59      no pca GLMstim not smoothed NPCr2cm-cluster 1         0.249175  \n",
       "62      no pca GLMstim not smoothed NPCr2cm-cluster 1         0.212203  \n",
       "63      no pca GLMstim not smoothed NPCr2cm-cluster 1         0.001710  \n",
       "67      no pca GLMstim not smoothed NPCr2cm-cluster 1         0.081757  \n",
       "69      no pca GLMstim not smoothed NPCr2cm-cluster 1         0.138493  \n",
       "72      no pca GLMstim not smoothed NPCr2cm-cluster 1         0.296474  \n",
       "74      no pca GLMstim not smoothed NPCr2cm-cluster 1         0.171760  "
      ]
     },
     "execution_count": 215,
     "metadata": {},
     "output_type": "execute_result"
    }
   ],
   "source": [
    "r2.droplevel('session').unstack('stimulation_condition')['r']"
   ]
  },
  {
   "cell_type": "markdown",
   "metadata": {},
   "source": [
    "# Flexible model 2"
   ]
  },
  {
   "cell_type": "code",
   "execution_count": 225,
   "metadata": {},
   "outputs": [
    {
     "name": "stderr",
     "output_type": "stream",
     "text": [
      "/Users/gdehol/git/tms_risk/tms_risk/utils/data.py:150: UserWarning: Subject 10/session 1 has only 5 runs!!\n",
      "  warnings.warn('Subject 10/session 1 has only 5 runs!!')\n"
     ]
    },
    {
     "name": "stdout",
     "output_type": "stream",
     "text": [
      "Dropping the baseline condition\n"
     ]
    },
    {
     "name": "stderr",
     "output_type": "stream",
     "text": [
      "/var/folders/d4/cpqhwlbn301clph1qk64k01nmjkty3/T/ipykernel_8438/1571624539.py:6: FutureWarning: In a future version of pandas all arguments of concat except for the argument 'objs' will be keyword-only.\n",
      "  memory_noise_sd_ips = pd.concat([idata.posterior[f'memory_noise_sd_poly{ix}'].to_dataframe().xs('Intercept', 0, -1) for ix in range(5)], 1)\n",
      "/var/folders/d4/cpqhwlbn301clph1qk64k01nmjkty3/T/ipykernel_8438/1571624539.py:7: FutureWarning: In a future version of pandas all arguments of concat except for the argument 'objs' will be keyword-only.\n",
      "  memory_noise_sd_vertex = pd.concat([idata.posterior[f'memory_noise_sd_poly{ix}'].to_dataframe().xs('Intercept', 0, -1) for ix in range(5)], 1) + pd.concat([idata.posterior[f'memory_noise_sd_poly{ix}'].to_dataframe().xs('stimulation_condition[T.vertex]', 0, -1) for ix in range(5)], 1).values\n",
      "/var/folders/d4/cpqhwlbn301clph1qk64k01nmjkty3/T/ipykernel_8438/1571624539.py:7: FutureWarning: In a future version of pandas all arguments of concat except for the argument 'objs' will be keyword-only.\n",
      "  memory_noise_sd_vertex = pd.concat([idata.posterior[f'memory_noise_sd_poly{ix}'].to_dataframe().xs('Intercept', 0, -1) for ix in range(5)], 1) + pd.concat([idata.posterior[f'memory_noise_sd_poly{ix}'].to_dataframe().xs('stimulation_condition[T.vertex]', 0, -1) for ix in range(5)], 1).values\n"
     ]
    }
   ],
   "source": [
    "df = get_data(model_label='flexible2')\n",
    "model = build_model(df=df, model_label='flexible2')\n",
    "\n",
    "idata = az.from_netcdf(op.join(bids_folder, 'derivatives', 'cogmodels', 'model-flexible2_trace.netcdf'))\n",
    "\n",
    "memory_noise_sd_ips = pd.concat([idata.posterior[f'memory_noise_sd_poly{ix}'].to_dataframe().xs('Intercept', 0, -1) for ix in range(5)], 1)\n",
    "memory_noise_sd_vertex = pd.concat([idata.posterior[f'memory_noise_sd_poly{ix}'].to_dataframe().xs('Intercept', 0, -1) for ix in range(5)], 1) + pd.concat([idata.posterior[f'memory_noise_sd_poly{ix}'].to_dataframe().xs('stimulation_condition[T.vertex]', 0, -1) for ix in range(5)], 1).values\n",
    "\n",
    "x = np.arange(7, 112)\n",
    "dm = model.make_dm(x)\n",
    "\n",
    "def get_curve_posterior(evidence_sd_posterior):\n",
    "    curve_posterior = evidence_sd_posterior.dot(dm.T)\n",
    "    curve_posterior.columns = x\n",
    "    curve_posterior.columns.name = 'x'\n",
    "\n",
    "    return softplus_np(curve_posterior)\n",
    "\n",
    "\n",
    "\n",
    "for d in [memory_noise_sd_ips, memory_noise_sd_vertex]:\n",
    "    d.columns = range(5)\n",
    "\n",
    "evidence_sd = pd.concat([memory_noise_sd_ips, memory_noise_sd_vertex], axis=0,\n",
    "                        keys=[('memory', 'IPS'), ('memory', 'Vertex')], names=['noise', 'TMS'])\n",
    "\n",
    "curve_posterior = get_curve_posterior(evidence_sd)"
   ]
  },
  {
   "cell_type": "code",
   "execution_count": 259,
   "metadata": {},
   "outputs": [
    {
     "data": {
      "text/plain": [
       "[(0.0, 4.0)]"
      ]
     },
     "execution_count": 259,
     "metadata": {},
     "output_type": "execute_result"
    },
    {
     "data": {
      "image/png": "[encoded data removed]",
      "text/plain": [
       "<Figure size 640x480 with 1 Axes>"
      ]
     },
     "metadata": {},
     "output_type": "display_data"
    }
   ],
   "source": [
    "tmp = curve_posterior.groupby(['subject', 'TMS']).mean().stack().to_frame('noise')\n",
    "\n",
    "g = sns.lineplot(data=tmp.reset_index(), x='x', y='noise', hue='TMS',  units=\"subject\", estimator=None, alpha=.1)\n",
    "\n",
    "g.set(ylim=(0, 4))"
   ]
  },
  {
   "cell_type": "code",
   "execution_count": 242,
   "metadata": {},
   "outputs": [],
   "source": [
    "flexible2_noise_diff = curve_posterior.loc[:, 12:28].mean(1).unstack('TMS')\n",
    "flexible2_noise_diff = flexible2_noise_diff['IPS'] - flexible2_noise_diff['Vertex']\n",
    "flexible2_noise_diff = flexible2_noise_diff.groupby('subject').mean().to_frame('flexible2_noise_diff')"
   ]
  },
  {
   "cell_type": "code",
   "execution_count": 247,
   "metadata": {},
   "outputs": [
    {
     "data": {
      "text/html": [
       "<div>\n",
       "<style scoped>\n",
       "    .dataframe tbody tr th:only-of-type {\n",
       "        vertical-align: middle;\n",
       "    }\n",
       "\n",
       "    .dataframe tbody tr th {\n",
       "        vertical-align: top;\n",
       "    }\n",
       "\n",
       "    .dataframe thead th {\n",
       "        text-align: right;\n",
       "    }\n",
       "</style>\n",
       "<table border=\"1\" class=\"dataframe\">\n",
       "  <thead>\n",
       "    <tr style=\"text-align: right;\">\n",
       "      <th></th>\n",
       "      <th>flexible1_noise_diff</th>\n",
       "      <th>flexible2_noise_diff</th>\n",
       "    </tr>\n",
       "  </thead>\n",
       "  <tbody>\n",
       "    <tr>\n",
       "      <th>flexible1_noise_diff</th>\n",
       "      <td>1.000000</td>\n",
       "      <td>0.257447</td>\n",
       "    </tr>\n",
       "    <tr>\n",
       "      <th>flexible2_noise_diff</th>\n",
       "      <td>0.257447</td>\n",
       "      <td>1.000000</td>\n",
       "    </tr>\n",
       "  </tbody>\n",
       "</table>\n",
       "</div>"
      ],
      "text/plain": [
       "                      flexible1_noise_diff  flexible2_noise_diff\n",
       "flexible1_noise_diff              1.000000              0.257447\n",
       "flexible2_noise_diff              0.257447              1.000000"
      ]
     },
     "execution_count": 247,
     "metadata": {},
     "output_type": "execute_result"
    }
   ],
   "source": [
    "cognitive_ips_effect.to_frame('flexible1_noise_diff').join(flexible2_noise_diff).corr()"
   ]
  },
  {
   "cell_type": "code",
   "execution_count": 250,
   "metadata": {},
   "outputs": [
    {
     "data": {
      "text/html": [
       "<div>\n",
       "<style scoped>\n",
       "    .dataframe tbody tr th:only-of-type {\n",
       "        vertical-align: middle;\n",
       "    }\n",
       "\n",
       "    .dataframe tbody tr th {\n",
       "        vertical-align: top;\n",
       "    }\n",
       "\n",
       "    .dataframe thead th {\n",
       "        text-align: right;\n",
       "    }\n",
       "</style>\n",
       "<table border=\"1\" class=\"dataframe\">\n",
       "  <thead>\n",
       "    <tr style=\"text-align: right;\">\n",
       "      <th></th>\n",
       "      <th>n</th>\n",
       "      <th>r</th>\n",
       "      <th>CI95%</th>\n",
       "      <th>p-val</th>\n",
       "      <th>BF10</th>\n",
       "      <th>power</th>\n",
       "    </tr>\n",
       "  </thead>\n",
       "  <tbody>\n",
       "    <tr>\n",
       "      <th>pearson</th>\n",
       "      <td>34</td>\n",
       "      <td>-0.059867</td>\n",
       "      <td>[-0.39, 0.28]</td>\n",
       "      <td>0.736625</td>\n",
       "      <td>0.225</td>\n",
       "      <td>0.06272</td>\n",
       "    </tr>\n",
       "  </tbody>\n",
       "</table>\n",
       "</div>"
      ],
      "text/plain": [
       "          n         r          CI95%     p-val   BF10    power\n",
       "pearson  34 -0.059867  [-0.39, 0.28]  0.736625  0.225  0.06272"
      ]
     },
     "execution_count": 250,
     "metadata": {},
     "output_type": "execute_result"
    }
   ],
   "source": [
    "tmp = amplitude_diff.to_frame('amplitude_diff').join(flexible2_noise_diff)\n",
    "\n",
    "pingouin.corr(tmp['amplitude_diff'], tmp['flexible2_noise_diff']) "
   ]
  },
  {
   "cell_type": "code",
   "execution_count": 252,
   "metadata": {},
   "outputs": [
    {
     "data": {
      "text/html": [
       "<div>\n",
       "<style scoped>\n",
       "    .dataframe tbody tr th:only-of-type {\n",
       "        vertical-align: middle;\n",
       "    }\n",
       "\n",
       "    .dataframe tbody tr th {\n",
       "        vertical-align: top;\n",
       "    }\n",
       "\n",
       "    .dataframe thead th {\n",
       "        text-align: right;\n",
       "    }\n",
       "</style>\n",
       "<table border=\"1\" class=\"dataframe\">\n",
       "  <thead>\n",
       "    <tr style=\"text-align: right;\">\n",
       "      <th></th>\n",
       "      <th>n</th>\n",
       "      <th>r</th>\n",
       "      <th>CI95%</th>\n",
       "      <th>p-val</th>\n",
       "      <th>BF10</th>\n",
       "      <th>power</th>\n",
       "    </tr>\n",
       "  </thead>\n",
       "  <tbody>\n",
       "    <tr>\n",
       "      <th>pearson</th>\n",
       "      <td>35</td>\n",
       "      <td>0.002842</td>\n",
       "      <td>[-0.33, 0.34]</td>\n",
       "      <td>0.98707</td>\n",
       "      <td>0.21</td>\n",
       "      <td>0.049587</td>\n",
       "    </tr>\n",
       "  </tbody>\n",
       "</table>\n",
       "</div>"
      ],
      "text/plain": [
       "          n         r          CI95%    p-val  BF10     power\n",
       "pearson  35  0.002842  [-0.33, 0.34]  0.98707  0.21  0.049587"
      ]
     },
     "execution_count": 252,
     "metadata": {},
     "output_type": "execute_result"
    }
   ],
   "source": [
    "tmp = decoding_diff.join(flexible2_noise_diff)\n",
    "\n",
    "pingouin.corr(tmp['decoding_diff'], tmp['flexible2_noise_diff']) "
   ]
  }
 ],
 "metadata": {
  "kernelspec": {
   "display_name": "base",
   "language": "python",
   "name": "python3"
  },
  "language_info": {
   "codemirror_mode": {
    "name": "ipython",
    "version": 3
   },
   "file_extension": ".py",
   "mimetype": "text/x-python",
   "name": "python",
   "nbconvert_exporter": "python",
   "pygments_lexer": "ipython3",
   "version": "3.10.9"
  }
 },
 "nbformat": 4,
 "nbformat_minor": 2
}
