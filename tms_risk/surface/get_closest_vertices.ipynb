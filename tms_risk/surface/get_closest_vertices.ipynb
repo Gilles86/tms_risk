{
 "cells": [
  {
   "cell_type": "code",
   "execution_count": 43,
   "metadata": {},
   "outputs": [],
   "source": [
    "import os.path as op\n",
    "import pandas as pd\n",
    "import numpy as np\n",
    "from tms_risk.utils.data import Subject\n",
    "from nilearn import surface\n",
    "from cortex.polyutils import Surface\n",
    "import nibabel as nb\n",
    "from nipype.interfaces.freesurfer import SurfaceTransform\n",
    "\n",
    "subject = '01'\n",
    "bids_folder = '/data/ds-tmsrisk'\n",
    "\n",
    "coords = np.loadtxt(op.join(bids_folder, 'derivatives', 'stim_coordinates', f'sub-{subject}', f'sub-{subject}_coords_warped.txt'))\n",
    "\n",
    "\n",
    "coords_surface = coords[0]\n",
    "\n",
    "\n",
    "sub = Subject(subject, bids_folder=bids_folder)\n",
    "surfinfo = sub.get_surf_info()\n",
    "target_dir = op.join(bids_folder, 'derivatives', 'ips_masks', f'sub-{subject}', 'anat')"
   ]
  },
  {
   "cell_type": "code",
   "execution_count": 44,
   "metadata": {},
   "outputs": [],
   "source": [
    "def transform_fsaverage(in_file, fs_hemi, source_subject, bids_folder):\n",
    "\n",
    "        subjects_dir = op.join(bids_folder, 'derivatives', 'freesurfer')\n",
    "\n",
    "        sxfm = SurfaceTransform(subjects_dir=subjects_dir)\n",
    "        sxfm.inputs.source_file = in_file\n",
    "        sxfm.inputs.out_file = in_file.replace('fsnative', 'fsaverage')\n",
    "        sxfm.inputs.source_subject = source_subject\n",
    "        sxfm.inputs.target_subject = 'fsaverage'\n",
    "        sxfm.inputs.hemi = fs_hemi\n",
    "\n",
    "        r = sxfm.run()\n",
    "        return r"
   ]
  },
  {
   "cell_type": "code",
   "execution_count": 45,
   "metadata": {},
   "outputs": [],
   "source": [
    "pts, polys = surface.load_surf_data(surfinfo['R']['outer'])"
   ]
  },
  {
   "cell_type": "code",
   "execution_count": 46,
   "metadata": {},
   "outputs": [
    {
     "name": "stderr",
     "output_type": "stream",
     "text": [
      "/Users/gdehol/mambaforge/lib/python3.10/site-packages/scipy/sparse/linalg/_dsolve/linsolve.py:412: SparseEfficiencyWarning: splu converted its input to CSC format\n",
      "  warn('splu converted its input to CSC format', SparseEfficiencyWarning)\n"
     ]
    }
   ],
   "source": [
    "# Find the index of the closest vertex to coords_surface\n",
    "dist = np.linalg.norm(pts - coords_surface, axis=1)\n",
    "closest_vertex = np.argmin(dist)\n",
    "\n",
    "surf = Surface(pts, polys)\n",
    "\n",
    "vertex_mask = surf.get_geodesic_patch(closest_vertex, 1.)['vertex_mask']"
   ]
  },
  {
   "cell_type": "code",
   "execution_count": 48,
   "metadata": {},
   "outputs": [],
   "source": [
    "from cortex.polyutils import Surface"
   ]
  },
  {
   "cell_type": "code",
   "execution_count": 50,
   "metadata": {},
   "outputs": [],
   "source": [
    "import cortex"
   ]
  },
  {
   "cell_type": "code",
   "execution_count": 53,
   "metadata": {},
   "outputs": [],
   "source": [
    "from nilearn import surface"
   ]
  },
  {
   "cell_type": "code",
   "execution_count": null,
   "metadata": {},
   "outputs": [],
   "source": [
    "s"
   ]
  },
  {
   "cell_type": "code",
   "execution_count": 55,
   "metadata": {},
   "outputs": [
    {
     "data": {
      "text/plain": [
       "mesh(coordinates=array([[  17.55411911, -100.70051575,    7.27403688],\n",
       "       [  17.0494957 , -100.84899902,    7.15601444],\n",
       "       [  17.45040131, -100.7842865 ,    6.71470308],\n",
       "       ...,\n",
       "       [  -4.50238705,   47.80871201,   17.79526329],\n",
       "       [   5.16783667,   47.1987114 ,   17.26408482],\n",
       "       [   4.79079819,   47.19179916,   17.18537712]]), faces=array([[     0,      1,      2],\n",
       "       [     3,      2,      1],\n",
       "       [     0,     82,     83],\n",
       "       ...,\n",
       "       [150879, 144215, 143666],\n",
       "       [143666, 144217, 143665],\n",
       "       [144217, 144215, 144214]], dtype='>i4'))"
      ]
     },
     "execution_count": 55,
     "metadata": {},
     "output_type": "execute_result"
    }
   ],
   "source": [
    "surface.load_surf_mesh(op.join(bids_folder, 'derivatives', 'freesurfer', f'sub-{subject}', 'surf', 'rh.pial'))"
   ]
  },
  {
   "cell_type": "code",
   "execution_count": 54,
   "metadata": {},
   "outputs": [
    {
     "name": "stdout",
     "output_type": "stream",
     "text": [
      "Unexpected exception formatting exception. Falling back to standard exception\n"
     ]
    },
    {
     "name": "stderr",
     "output_type": "stream",
     "text": [
      "Traceback (most recent call last):\n",
      "  File \"/Users/gdehol/mambaforge/lib/python3.10/site-packages/IPython/core/interactiveshell.py\", line 3460, in run_code\n",
      "    exec(code_obj, self.user_global_ns, self.user_ns)\n",
      "  File \"/var/folders/d4/cpqhwlbn301clph1qk64k01nmjkty3/T/ipykernel_36236/1679669545.py\", line 1, in <module>\n",
      "    surface.load_surf_data('/data/ds-tmsrisk/derivatives/freesurfer/sub-01/surf/rh.pial')\n",
      "  File \"/Users/gdehol/mambaforge/lib/python3.10/site-packages/nilearn/surface/surface.py\", line 758, in load_surf_data\n",
      "    check_extensions(surf_data,\n",
      "  File \"/Users/gdehol/mambaforge/lib/python3.10/site-packages/nilearn/surface/surface.py\", line 818, in check_extensions\n",
      "    raise ValueError(\n",
      "ValueError: The input type is not recognized. '/data/ds-tmsrisk/derivatives/freesurfer/sub-01/surf/rh.pial' was given while valid inputs are a Numpy array or one of the following file formats: '.gii', '.gii.gz', '.mgz', '.nii', '.nii', Freesurfer specific files such as '.area', '.curv', '.sulc', '.thickness', '.label', '.an'.\n",
      "\n",
      "During handling of the above exception, another exception occurred:\n",
      "\n",
      "Traceback (most recent call last):\n",
      "  File \"/Users/gdehol/mambaforge/lib/python3.10/site-packages/IPython/core/interactiveshell.py\", line 2057, in showtraceback\n",
      "    stb = self.InteractiveTB.structured_traceback(\n",
      "  File \"/Users/gdehol/mambaforge/lib/python3.10/site-packages/IPython/core/ultratb.py\", line 1118, in structured_traceback\n",
      "    return FormattedTB.structured_traceback(\n",
      "  File \"/Users/gdehol/mambaforge/lib/python3.10/site-packages/IPython/core/ultratb.py\", line 1012, in structured_traceback\n",
      "    return VerboseTB.structured_traceback(\n",
      "  File \"/Users/gdehol/mambaforge/lib/python3.10/site-packages/IPython/core/ultratb.py\", line 865, in structured_traceback\n",
      "    formatted_exception = self.format_exception_as_a_whole(etype, evalue, etb, number_of_lines_of_context,\n",
      "  File \"/Users/gdehol/mambaforge/lib/python3.10/site-packages/IPython/core/ultratb.py\", line 799, in format_exception_as_a_whole\n",
      "    self.get_records(etb, number_of_lines_of_context, tb_offset) if etb else []\n",
      "  File \"/Users/gdehol/mambaforge/lib/python3.10/site-packages/IPython/core/ultratb.py\", line 845, in get_records\n",
      "    style = stack_data.style_with_executing_node(style, self._tb_highlight)\n",
      "  File \"/Users/gdehol/mambaforge/lib/python3.10/site-packages/stack_data/core.py\", line 455, in style_with_executing_node\n",
      "    class NewStyle(style):\n",
      "  File \"/Users/gdehol/mambaforge/lib/python3.10/site-packages/pygments/style.py\", line 66, in __new__\n",
      "    ndef[4] = colorformat(styledef[3:])\n",
      "  File \"/Users/gdehol/mambaforge/lib/python3.10/site-packages/pygments/style.py\", line 33, in colorformat\n",
      "    assert False, \"wrong color format %r\" % text\n",
      "AssertionError: wrong color format 'ansiyellow'\n"
     ]
    }
   ],
   "source": [
    "('/data/ds-tmsrisk/derivatives/freesurfer/sub-01/surf/rh.pial')"
   ]
  },
  {
   "cell_type": "code",
   "execution_count": 51,
   "metadata": {},
   "outputs": [
    {
     "name": "stdout",
     "output_type": "stream",
     "text": [
      "Unexpected exception formatting exception. Falling back to standard exception\n"
     ]
    },
    {
     "name": "stderr",
     "output_type": "stream",
     "text": [
      "Traceback (most recent call last):\n",
      "  File \"/Users/gdehol/mambaforge/lib/python3.10/site-packages/IPython/core/interactiveshell.py\", line 3460, in run_code\n",
      "    exec(code_obj, self.user_global_ns, self.user_ns)\n",
      "  File \"/var/folders/d4/cpqhwlbn301clph1qk64k01nmjkty3/T/ipykernel_36236/4119099216.py\", line 1, in <module>\n",
      "    cortex.load('/data/ds-tmsrisk/derivatives/freesurfer/fsaverage/surf/rh.inflated')\n",
      "  File \"/Users/gdehol/mambaforge/lib/python3.10/site-packages/cortex/dataset/dataset.py\", line 87, in from_file\n",
      "    ds.h5 = h5py.File(filename, 'r')\n",
      "  File \"/Users/gdehol/mambaforge/lib/python3.10/site-packages/h5py/_hl/files.py\", line 567, in __init__\n",
      "    fid = make_fid(name, mode, userblock_size, fapl, fcpl, swmr=swmr)\n",
      "  File \"/Users/gdehol/mambaforge/lib/python3.10/site-packages/h5py/_hl/files.py\", line 231, in make_fid\n",
      "    fid = h5f.open(name, flags, fapl=fapl)\n",
      "  File \"h5py/_objects.pyx\", line 54, in h5py._objects.with_phil.wrapper\n",
      "  File \"h5py/_objects.pyx\", line 55, in h5py._objects.with_phil.wrapper\n",
      "  File \"h5py/h5f.pyx\", line 106, in h5py.h5f.open\n",
      "OSError: Unable to open file (file signature not found)\n",
      "\n",
      "During handling of the above exception, another exception occurred:\n",
      "\n",
      "Traceback (most recent call last):\n",
      "  File \"/Users/gdehol/mambaforge/lib/python3.10/site-packages/IPython/core/interactiveshell.py\", line 2057, in showtraceback\n",
      "    stb = self.InteractiveTB.structured_traceback(\n",
      "  File \"/Users/gdehol/mambaforge/lib/python3.10/site-packages/IPython/core/ultratb.py\", line 1118, in structured_traceback\n",
      "    return FormattedTB.structured_traceback(\n",
      "  File \"/Users/gdehol/mambaforge/lib/python3.10/site-packages/IPython/core/ultratb.py\", line 1012, in structured_traceback\n",
      "    return VerboseTB.structured_traceback(\n",
      "  File \"/Users/gdehol/mambaforge/lib/python3.10/site-packages/IPython/core/ultratb.py\", line 865, in structured_traceback\n",
      "    formatted_exception = self.format_exception_as_a_whole(etype, evalue, etb, number_of_lines_of_context,\n",
      "  File \"/Users/gdehol/mambaforge/lib/python3.10/site-packages/IPython/core/ultratb.py\", line 799, in format_exception_as_a_whole\n",
      "    self.get_records(etb, number_of_lines_of_context, tb_offset) if etb else []\n",
      "  File \"/Users/gdehol/mambaforge/lib/python3.10/site-packages/IPython/core/ultratb.py\", line 845, in get_records\n",
      "    style = stack_data.style_with_executing_node(style, self._tb_highlight)\n",
      "  File \"/Users/gdehol/mambaforge/lib/python3.10/site-packages/stack_data/core.py\", line 455, in style_with_executing_node\n",
      "    class NewStyle(style):\n",
      "  File \"/Users/gdehol/mambaforge/lib/python3.10/site-packages/pygments/style.py\", line 66, in __new__\n",
      "    ndef[4] = colorformat(styledef[3:])\n",
      "  File \"/Users/gdehol/mambaforge/lib/python3.10/site-packages/pygments/style.py\", line 33, in colorformat\n",
      "    assert False, \"wrong color format %r\" % text\n",
      "AssertionError: wrong color format 'ansiyellow'\n"
     ]
    }
   ],
   "source": [
    "cortex.load('/data/ds-tmsrisk/derivatives/freesurfer/fsaverage/surf/rh.inflated')"
   ]
  },
  {
   "cell_type": "code",
   "execution_count": 49,
   "metadata": {},
   "outputs": [
    {
     "name": "stdout",
     "output_type": "stream",
     "text": [
      "Unexpected exception formatting exception. Falling back to standard exception\n"
     ]
    },
    {
     "name": "stderr",
     "output_type": "stream",
     "text": [
      "Traceback (most recent call last):\n",
      "  File \"/Users/gdehol/mambaforge/lib/python3.10/site-packages/IPython/core/interactiveshell.py\", line 3460, in run_code\n",
      "    exec(code_obj, self.user_global_ns, self.user_ns)\n",
      "  File \"/var/folders/d4/cpqhwlbn301clph1qk64k01nmjkty3/T/ipykernel_36236/2171800489.py\", line 1, in <module>\n",
      "    Surface('/data/ds-tmsrisk/derivatives/freesurfer/fsaverage/surf/rh.inflated')\n",
      "TypeError: Surface.__init__() missing 1 required positional argument: 'polys'\n",
      "\n",
      "During handling of the above exception, another exception occurred:\n",
      "\n",
      "Traceback (most recent call last):\n",
      "  File \"/Users/gdehol/mambaforge/lib/python3.10/site-packages/IPython/core/interactiveshell.py\", line 2057, in showtraceback\n",
      "    stb = self.InteractiveTB.structured_traceback(\n",
      "  File \"/Users/gdehol/mambaforge/lib/python3.10/site-packages/IPython/core/ultratb.py\", line 1118, in structured_traceback\n",
      "    return FormattedTB.structured_traceback(\n",
      "  File \"/Users/gdehol/mambaforge/lib/python3.10/site-packages/IPython/core/ultratb.py\", line 1012, in structured_traceback\n",
      "    return VerboseTB.structured_traceback(\n",
      "  File \"/Users/gdehol/mambaforge/lib/python3.10/site-packages/IPython/core/ultratb.py\", line 865, in structured_traceback\n",
      "    formatted_exception = self.format_exception_as_a_whole(etype, evalue, etb, number_of_lines_of_context,\n",
      "  File \"/Users/gdehol/mambaforge/lib/python3.10/site-packages/IPython/core/ultratb.py\", line 799, in format_exception_as_a_whole\n",
      "    self.get_records(etb, number_of_lines_of_context, tb_offset) if etb else []\n",
      "  File \"/Users/gdehol/mambaforge/lib/python3.10/site-packages/IPython/core/ultratb.py\", line 845, in get_records\n",
      "    style = stack_data.style_with_executing_node(style, self._tb_highlight)\n",
      "  File \"/Users/gdehol/mambaforge/lib/python3.10/site-packages/stack_data/core.py\", line 455, in style_with_executing_node\n",
      "    class NewStyle(style):\n",
      "  File \"/Users/gdehol/mambaforge/lib/python3.10/site-packages/pygments/style.py\", line 66, in __new__\n",
      "    ndef[4] = colorformat(styledef[3:])\n",
      "  File \"/Users/gdehol/mambaforge/lib/python3.10/site-packages/pygments/style.py\", line 33, in colorformat\n",
      "    assert False, \"wrong color format %r\" % text\n",
      "AssertionError: wrong color format 'ansiyellow'\n"
     ]
    }
   ],
   "source": [
    "Surface('/data/ds-tmsrisk/derivatives/freesurfer/fsaverage/surf/rh.inflated')"
   ]
  },
  {
   "cell_type": "code",
   "execution_count": 47,
   "metadata": {},
   "outputs": [
    {
     "name": "stdout",
     "output_type": "stream",
     "text": [
      "Unexpected exception formatting exception. Falling back to standard exception\n"
     ]
    },
    {
     "name": "stderr",
     "output_type": "stream",
     "text": [
      "Traceback (most recent call last):\n",
      "  File \"/Users/gdehol/mambaforge/lib/python3.10/site-packages/IPython/core/interactiveshell.py\", line 3460, in run_code\n",
      "    exec(code_obj, self.user_global_ns, self.user_ns)\n",
      "  File \"/var/folders/d4/cpqhwlbn301clph1qk64k01nmjkty3/T/ipykernel_36236/2206644232.py\", line 5, in <module>\n",
      "    transform_fsaverage(target_fn, 'rh', f'sub-{subject}', bids_folder)\n",
      "  File \"/var/folders/d4/cpqhwlbn301clph1qk64k01nmjkty3/T/ipykernel_36236/4027455075.py\", line 12, in transform_fsaverage\n",
      "    r = sxfm.run()\n",
      "  File \"/Users/gdehol/mambaforge/lib/python3.10/site-packages/nipype/interfaces/freesurfer/base.py\", line 149, in run\n",
      "    return super(FSCommand, self).run(**inputs)\n",
      "  File \"/Users/gdehol/mambaforge/lib/python3.10/site-packages/nipype/interfaces/base/core.py\", line 398, in run\n",
      "    runtime = self._run_interface(runtime)\n",
      "  File \"/Users/gdehol/mambaforge/lib/python3.10/site-packages/nipype/interfaces/base/core.py\", line 753, in _run_interface\n",
      "    raise IOError(\n",
      "OSError: No command \"mri_surf2surf\" found on host Econ12B. Please check that the corresponding package is installed.\n",
      "\n",
      "During handling of the above exception, another exception occurred:\n",
      "\n",
      "Traceback (most recent call last):\n",
      "  File \"/Users/gdehol/mambaforge/lib/python3.10/site-packages/IPython/core/interactiveshell.py\", line 2057, in showtraceback\n",
      "    stb = self.InteractiveTB.structured_traceback(\n",
      "  File \"/Users/gdehol/mambaforge/lib/python3.10/site-packages/IPython/core/ultratb.py\", line 1118, in structured_traceback\n",
      "    return FormattedTB.structured_traceback(\n",
      "  File \"/Users/gdehol/mambaforge/lib/python3.10/site-packages/IPython/core/ultratb.py\", line 1012, in structured_traceback\n",
      "    return VerboseTB.structured_traceback(\n",
      "  File \"/Users/gdehol/mambaforge/lib/python3.10/site-packages/IPython/core/ultratb.py\", line 865, in structured_traceback\n",
      "    formatted_exception = self.format_exception_as_a_whole(etype, evalue, etb, number_of_lines_of_context,\n",
      "  File \"/Users/gdehol/mambaforge/lib/python3.10/site-packages/IPython/core/ultratb.py\", line 799, in format_exception_as_a_whole\n",
      "    self.get_records(etb, number_of_lines_of_context, tb_offset) if etb else []\n",
      "  File \"/Users/gdehol/mambaforge/lib/python3.10/site-packages/IPython/core/ultratb.py\", line 845, in get_records\n",
      "    style = stack_data.style_with_executing_node(style, self._tb_highlight)\n",
      "  File \"/Users/gdehol/mambaforge/lib/python3.10/site-packages/stack_data/core.py\", line 455, in style_with_executing_node\n",
      "    class NewStyle(style):\n",
      "  File \"/Users/gdehol/mambaforge/lib/python3.10/site-packages/pygments/style.py\", line 66, in __new__\n",
      "    ndef[4] = colorformat(styledef[3:])\n",
      "  File \"/Users/gdehol/mambaforge/lib/python3.10/site-packages/pygments/style.py\", line 33, in colorformat\n",
      "    assert False, \"wrong color format %r\" % text\n",
      "AssertionError: wrong color format 'ansiyellow'\n"
     ]
    }
   ],
   "source": [
    "vertex_mask = surf.get_geodesic_patch(closest_vertex, 5)['vertex_mask']\n",
    "im = nb.gifti.GiftiImage(darrays=[nb.gifti.GiftiDataArray(vertex_mask.astype(np.float32))])\n",
    "target_fn =  op.join(target_dir, f'sub-{subject}_space-fsnative_desc-NPCr5mm_geodesic_hemi-R.anat.gii')\n",
    "nb.save(im, target_fn)\n",
    "transform_fsaverage(target_fn, 'rh', f'sub-{subject}', bids_folder)"
   ]
  },
  {
   "cell_type": "code",
   "execution_count": 8,
   "metadata": {},
   "outputs": [
    {
     "data": {
      "text/plain": [
       "13538"
      ]
     },
     "execution_count": 8,
     "metadata": {},
     "output_type": "execute_result"
    }
   ],
   "source": [
    "closest_vertex"
   ]
  },
  {
   "cell_type": "code",
   "execution_count": 24,
   "metadata": {},
   "outputs": [
    {
     "name": "stdout",
     "output_type": "stream",
     "text": [
      "240610-10:45:15,307 nipype.workflow INFO:\n",
      "\t [Node] Setting-up \"apply_reg\" in \"/private/var/folders/d4/cpqhwlbn301clph1qk64k01nmjkty3/T/tmp9vktprnx/apply_reg\".\n",
      "240610-10:45:15,322 nipype.workflow INFO:\n",
      "\t [Node] Executing \"apply_reg\" <nipype.interfaces.utility.wrappers.Function>\n",
      "Error executing command: /Users/gdehol/freesurfer/bin/mris_apply_reg --src /data/ds-tmsrisk/derivatives/freesurfer/sub-01 --trg fsaverage --srcsurfval 13538 --trgsurfval out_file.txt\n",
      "Return code: 255\n",
      "Output: \n",
      "Error: ERROR: Option --srcsurfval unknown\n",
      "\n",
      "240610-10:45:15,359 nipype.workflow INFO:\n",
      "\t [Node] Finished \"apply_reg\", elapsed time 0.033218s.\n"
     ]
    }
   ],
   "source": [
    "import os\n",
    "from nipype.interfaces.utility import Function\n",
    "from nipype import Workflow, Node\n",
    "\n",
    "\n",
    "def apply_spherical_registration(subject_id, hemi, vertex_id, freesurfer_home=\"/Users/gdehol/freesurfer\"):\n",
    "    import subprocess\n",
    "    import os\n",
    "    import os.path as op\n",
    "\n",
    "\n",
    "    # Construct the full command\n",
    "    cmd = [\n",
    "        f\"{freesurfer_home}/bin/mris_apply_reg\",\n",
    "        \"--src\", op.join(os.environ['SUBJECTS_DIR'], subject_id),\n",
    "        \"--trg\", \"fsaverage\",\n",
    "        # \"--hemi\", hemi,\n",
    "        \"--srcsurfval\", str(vertex_id),\n",
    "        \"--trgsurfval\", \"out_file.txt\"\n",
    "    ]\n",
    "\n",
    "    # Run the command\n",
    "    try:\n",
    "        subprocess.run(cmd, check=True, text=True, capture_output=True)\n",
    "        # Read the output and return the corresponding vertex\n",
    "        with open(\"out_file.txt\", \"r\") as f:\n",
    "            output_vertex = f.read().strip()\n",
    "        return output_vertex\n",
    "    except subprocess.CalledProcessError as e:\n",
    "        print(\"Error executing command:\", ' '.join(cmd))\n",
    "        print(\"Return code:\", e.returncode)\n",
    "        print(\"Output:\", e.output)\n",
    "        print(\"Error:\", e.stderr)\n",
    "        return None\n",
    "# Set up the Function node\n",
    "apply_reg_node = Node(Function(input_names=[\"subject_id\", \"hemi\", \"vertex_id\"],\n",
    "                               output_names=[\"output_vertex\"],\n",
    "                               function=apply_spherical_registration),\n",
    "                      name=\"apply_reg\")\n",
    "\n",
    "\n",
    "apply_reg_node.inputs.subject_id = f'sub-{subject}'\n",
    "apply_reg_node.inputs.hemi = 'rh'\n",
    "apply_reg_node.inputs.vertex_id = closest_vertex\n",
    "\n",
    "r = apply_reg_node.run()\n",
    "# apply_reg_node.cmdline"
   ]
  },
  {
   "cell_type": "code",
   "execution_count": null,
   "metadata": {},
   "outputs": [],
   "source": []
  },
  {
   "cell_type": "code",
   "execution_count": 33,
   "metadata": {},
   "outputs": [],
   "source": [
    "from nilearn.plotting import plot_surf_roi"
   ]
  },
  {
   "cell_type": "code",
   "execution_count": 37,
   "metadata": {},
   "outputs": [
    {
     "data": {
      "text/plain": [
       "{'L': {'inner': '/data/ds-tmsrisk/derivatives/fmriprep/sub-01/ses-1/anat/sub-01_ses-1_hemi-L_smoothwm.surf.gii',\n",
       "  'mid': '/data/ds-tmsrisk/derivatives/fmriprep/sub-01/ses-1/anat/sub-01_ses-1_hemi-L_midthickness.surf.gii',\n",
       "  'outer': '/data/ds-tmsrisk/derivatives/fmriprep/sub-01/ses-1/anat/sub-01_ses-1_hemi-L_pial.surf.gii',\n",
       "  'inflated': '/data/ds-tmsrisk/derivatives/fmriprep/sub-01/ses-1/anat/sub-01_ses-1_hemi-L_inflated.surf.gii',\n",
       "  'curvature': '/data/ds-tmsrisk/derivatives/freesurfer/sub-01/surf/lh.curv'},\n",
       " 'R': {'inner': '/data/ds-tmsrisk/derivatives/fmriprep/sub-01/ses-1/anat/sub-01_ses-1_hemi-R_smoothwm.surf.gii',\n",
       "  'mid': '/data/ds-tmsrisk/derivatives/fmriprep/sub-01/ses-1/anat/sub-01_ses-1_hemi-R_midthickness.surf.gii',\n",
       "  'outer': '/data/ds-tmsrisk/derivatives/fmriprep/sub-01/ses-1/anat/sub-01_ses-1_hemi-R_pial.surf.gii',\n",
       "  'inflated': '/data/ds-tmsrisk/derivatives/fmriprep/sub-01/ses-1/anat/sub-01_ses-1_hemi-R_inflated.surf.gii',\n",
       "  'curvature': '/data/ds-tmsrisk/derivatives/freesurfer/sub-01/surf/rh.curv'}}"
      ]
     },
     "execution_count": 37,
     "metadata": {},
     "output_type": "execute_result"
    }
   ],
   "source": [
    "surfinfo"
   ]
  },
  {
   "cell_type": "code",
   "execution_count": 38,
   "metadata": {},
   "outputs": [
    {
     "data": {
      "image/png": "[encoded data removed]",
      "text/plain": [
       "<Figure size 400x500 with 1 Axes>"
      ]
     },
     "execution_count": 38,
     "metadata": {},
     "output_type": "execute_result"
    },
    {
     "data": {
      "image/png": "[encoded data removed]",
      "text/plain": [
       "<Figure size 400x500 with 1 Axes>"
      ]
     },
     "metadata": {},
     "output_type": "display_data"
    }
   ],
   "source": [
    "plot_surf_roi(surfinfo['R']['outer'], roi_map=vertex_mask, bg_map=surfinfo['R']['curvature'], hemi='right', view='lateral', bg_on_data=True, darkness=0.5, cmap='viridis')"
   ]
  },
  {
   "cell_type": "code",
   "execution_count": 23,
   "metadata": {},
   "outputs": [
    {
     "data": {
      "text/plain": [
       "{'vertex_mask': array([False, False, False, ..., False, False, False]),\n",
       " 'geodesic_distance': array([8.47300113, 8.64322372, 8.72864545, 8.983338  , 9.33358557,\n",
       "        9.81033634, 6.37266418, 7.07428045, 7.64619985, 7.08544562,\n",
       "        7.37486447, 8.14454558, 7.43520568, 8.1838464 , 9.33408681,\n",
       "        7.76942449, 7.71299251, 9.34543576, 9.6536521 , 9.10077105,\n",
       "        8.23434845, 4.63129956, 5.08461722, 5.11775036, 6.04199479,\n",
       "        7.12385052, 5.9277081 , 8.1212377 , 6.48554399, 9.22947324,\n",
       "        7.30262367, 6.77619719, 9.83758077, 8.58784741, 7.72588916,\n",
       "        7.02386964, 3.09554612, 2.9911909 , 3.35299169, 3.31715129,\n",
       "        3.92047335, 4.31066988, 3.87507198, 4.61074267, 5.60050089,\n",
       "        6.56468188, 5.43950979, 6.63434142, 7.56105271, 5.8556173 ,\n",
       "        8.91463375, 6.67939564, 6.25870954, 9.96007554, 8.31150173,\n",
       "        7.49335891, 6.94446515, 6.79076171, 6.53682103, 7.9368293 ,\n",
       "        7.62045071, 7.15278101, 7.00464467, 2.43043795, 2.63294631,\n",
       "        3.16034073, 3.53322162, 2.85069562, 3.53809919, 4.4919143 ,\n",
       "        4.99280359, 4.93662955, 5.33749862, 5.27687097, 6.17229482,\n",
       "        7.27917613, 5.90170967, 8.43492935, 6.36580355, 9.85928038,\n",
       "        9.69920591, 8.97737831, 7.06123147, 6.71630428, 8.82676366,\n",
       "        8.0443462 , 7.59991568, 7.58102278, 7.20944142, 8.04277313,\n",
       "        8.05388735, 8.27760779, 0.92826889, 0.71621217, 1.14376255,\n",
       "        0.        , 1.09157608, 1.59968577, 1.28286917, 2.12461839,\n",
       "        2.77760228, 2.94317977, 3.39107666, 4.65643057, 3.89289229,\n",
       "        4.41457078, 6.00571428, 5.73961666, 5.89179619, 7.12740199,\n",
       "        8.07391217, 6.83234568, 6.36272992, 9.24959312, 7.57987653,\n",
       "        6.87911647, 7.85942005, 7.24428657, 9.49569941, 8.88498251,\n",
       "        8.58519831, 8.22242655, 8.53898909, 8.65276193, 8.80673425,\n",
       "        2.96638345, 1.561452  , 1.10889374, 2.044812  , 3.59822783,\n",
       "        2.31851706, 0.9201074 , 1.615636  , 4.24037973, 3.48002   ,\n",
       "        2.47759542, 4.4949924 , 3.59817783, 4.92746695, 5.50669988,\n",
       "        5.58834614, 6.27705404, 6.78643285, 6.64797342, 7.58505363,\n",
       "        7.88147904, 7.08048076, 8.44328909, 8.67697695, 7.90544791,\n",
       "        9.95288521, 8.59994364, 9.73796285, 9.15054469, 9.02723983,\n",
       "        9.14820656, 9.77484372, 9.4296228 , 9.57622938, 9.55781236,\n",
       "        4.04623221, 3.57502827, 3.02706004, 3.99647023, 2.59454417,\n",
       "        2.14785615, 2.40151539, 4.52180185, 3.03022833, 4.97315967,\n",
       "        4.56032098, 3.35208866, 6.12347926, 5.51600691, 4.26148625,\n",
       "        5.54319484, 6.33179223, 6.75108576, 7.2154756 , 7.7777178 ,\n",
       "        7.84316677, 7.97058754, 8.92405603, 9.63519465, 8.9917    ,\n",
       "        9.85060089, 9.71745244, 9.70409746, 5.60170897, 4.61243785,\n",
       "        3.98915117, 3.43036968, 3.96332814, 5.92063777, 5.25848195,\n",
       "        3.10655322, 3.71217952, 6.24361601, 5.66077698, 4.11283379,\n",
       "        4.95890317, 6.05629034, 4.2388686 , 5.45474334, 7.00139265,\n",
       "        7.05991561, 4.70795279, 6.06271087, 7.43057828, 7.26206347,\n",
       "        8.11641162, 8.70155445, 8.27587098, 9.15637288, 9.38102308,\n",
       "        9.69753245, 6.44901105, 6.21945165, 6.0720217 , 7.61572951,\n",
       "        6.57023064, 5.66130657, 5.2356144 , 4.65442699, 4.6641073 ,\n",
       "        8.01902549, 7.26414482, 5.11135906, 6.13663228, 7.06567723,\n",
       "        7.26565682, 4.83985258, 6.10272206, 7.85499049, 6.99561352,\n",
       "        8.47713412, 8.42995505, 7.8102525 , 8.6172103 , 8.65923788,\n",
       "        9.10541626, 9.61880878, 9.43402245, 9.83610402, 7.88192103,\n",
       "        7.29882758, 6.78394008, 6.31721537, 6.30693563, 7.74272652,\n",
       "        6.94239475, 5.5912363 , 5.77661284, 5.94872299, 8.57397882,\n",
       "        8.65662814, 6.35322356, 6.94102058, 8.35780632, 8.50716375,\n",
       "        7.61079187, 9.22267232, 7.81809114, 9.17359513, 8.40192622,\n",
       "        9.69971086, 9.06968094, 9.95385501, 9.90403508, 9.98611503,\n",
       "        9.35821405, 8.64866656, 9.8099841 , 8.58169151, 7.81148965,\n",
       "        7.33110901, 7.09244357, 6.89123825, 9.7274532 , 9.32901694,\n",
       "        6.99169823, 7.13774066, 7.76910242, 9.53248626, 9.86839829,\n",
       "        7.24936335, 8.03585889, 8.78647057, 9.3586618 , 8.4772516 ,\n",
       "        8.9411002 , 8.6415978 , 9.23302179, 8.99952592, 9.52129657,\n",
       "        9.51673983, 9.98680151, 9.78990112, 9.84281444, 9.91798081,\n",
       "        9.3258385 , 8.53232955, 8.00640065, 7.80356761, 7.66874532,\n",
       "        7.70136942, 7.98126714, 7.67589062, 7.83714797, 8.14465026,\n",
       "        8.72650809, 8.19665984, 8.76420691, 9.27722235, 9.67820423,\n",
       "        9.93262371, 9.7298773 , 9.72980576, 9.69514691, 9.12290787,\n",
       "        9.20451325, 9.35889279, 9.64550785, 9.87674495, 9.31810762,\n",
       "        9.84434503, 9.98897082, 9.12695908, 8.45666627, 8.4126587 ,\n",
       "        8.33670897, 9.98038169, 8.19962608, 8.1470514 , 8.09038992,\n",
       "        8.15984684, 8.27510096, 8.65762119, 9.92856301, 8.40910366,\n",
       "        8.77690315, 9.08320115, 9.38795973, 9.99435292, 9.31457853,\n",
       "        9.57099284, 9.66139822, 9.47726841, 9.69141088, 9.82188959,\n",
       "        9.92391922, 9.98725374, 9.98056946, 9.64143284, 9.30519706,\n",
       "        8.72212047, 8.71719938, 8.99421909, 9.38766087, 9.60115441,\n",
       "        9.45788818, 9.0720193 , 8.62819625, 8.48286785, 8.56001992,\n",
       "        8.8743227 , 9.2926524 , 9.6626493 , 9.87214953, 9.01975791,\n",
       "        8.74378149, 8.39651145, 8.3575444 , 8.51026305, 8.88788445,\n",
       "        9.25327833, 9.58609044, 9.84241472, 8.30183711, 8.33190191,\n",
       "        8.49200051, 8.90298062, 9.23232248, 9.52192569, 9.74219174,\n",
       "        9.86528078, 9.09204342, 9.25315775, 9.51372302, 9.68701297,\n",
       "        9.82629165, 9.71499249, 9.8182177 , 9.9233623 , 9.94019139])}"
      ]
     },
     "execution_count": 23,
     "metadata": {},
     "output_type": "execute_result"
    }
   ],
   "source": [
    "vertex_mask\n",
    "s"
   ]
  },
  {
   "cell_type": "code",
   "execution_count": null,
   "metadata": {},
   "outputs": [],
   "source": []
  }
 ],
 "metadata": {
  "kernelspec": {
   "display_name": "base",
   "language": "python",
   "name": "python3"
  },
  "language_info": {
   "codemirror_mode": {
    "name": "ipython",
    "version": 3
   },
   "file_extension": ".py",
   "mimetype": "text/x-python",
   "name": "python",
   "nbconvert_exporter": "python",
   "pygments_lexer": "ipython3",
   "version": "3.10.9"
  }
 },
 "nbformat": 4,
 "nbformat_minor": 2
}
