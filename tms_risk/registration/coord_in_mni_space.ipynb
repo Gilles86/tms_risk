{
 "cells": [
  {
   "cell_type": "code",
   "execution_count": 37,
   "metadata": {},
   "outputs": [],
   "source": [
    "from nipype.interfaces import ants\n",
    "import os\n",
    "import os.path as op\n",
    "from nilearn import image\n",
    "from nilearn import plotting\n",
    "\n",
    "\n",
    "bids_folder = '/data/ds-tmsrisk'"
   ]
  },
  {
   "cell_type": "code",
   "execution_count": 43,
   "metadata": {},
   "outputs": [],
   "source": [
    "subject = '02'\n",
    "\n",
    "distance_map = op.join(bids_folder, 'derivatives', 'stim_coordinates', f'sub-{subject}', f'sub-{subject}_coords_cluster_distance.nii.gz')  \n",
    "\n",
    "map_5mm = image.load_img(distance_map)\n",
    "map_5mm = image.math_img('im<5', im=map_5mm)\n",
    "\n",
    "\n",
    "map_5mm.to_filename(op.join(bids_folder, 'derivatives', 'ips_masks', f'sub-{subject}', 'anat', f'sub-{subject}_space-T1w_desc-NPCr5mm-cluster_mask.nii.gz'))\n",
    "\n",
    "\n",
    "\n",
    "transformer = ants.ApplyTransforms()\n",
    "transformer.inputs.dimension = 3\n",
    "transformer.inputs.input_image = op.join(bids_folder, 'derivatives', 'ips_masks', f'sub-{subject}', 'anat', f'sub-{subject}_space-T1w_desc-NPCr5mm-cluster_mask.nii.gz')\n",
    "fsl_dir = '/usr/local/fsl'\n",
    "transformer.inputs.reference_image = op.join(fsl_dir, 'data', 'standard', 'MNI152_T1_0.5mm.nii.gz')\n",
    "transformer.inputs.transforms = op.join(bids_folder, 'derivatives', 'fmriprep', f'sub-{subject}', 'ses-1', 'anat', f'sub-{subject}_ses-1_from-T1w_to-MNI152NLin2009cAsym_mode-image_xfm.h5')\n",
    "\n",
    "transformer.inputs.environ = {'ANTSPATH': '/Users/gdehol/ants/bin', 'PATH': '/Users/gdehol/ants/bin:/usr/local/fsl/bin:/usr/local/bin:/usr/bin:/bin:/usr/sbin:/sbin:/opt/X11/bin:/Library/TeX/texbin:/usr/local/go/bin:/Users/gdehol/go/bin:/Users/gdehol/ants/bin'}\n",
    "r = transformer.run()"
   ]
  },
  {
   "cell_type": "code",
   "execution_count": 34,
   "metadata": {},
   "outputs": [
    {
     "data": {
      "text/plain": [
       "\n",
       "output_image = /Users/gdehol/git/tms_risk/tms_risk/registration/sub-01_space-T1w_desc-NPCr1cm-cluster_mask_trans.nii.gz"
      ]
     },
     "execution_count": 34,
     "metadata": {},
     "output_type": "execute_result"
    }
   ],
   "source": [
    "r.outputs"
   ]
  },
  {
   "cell_type": "code",
   "execution_count": 22,
   "metadata": {},
   "outputs": [
    {
     "name": "stdout",
     "output_type": "stream",
     "text": [
      "/data/ds-tmsrisk/derivatives/fmriprep/sub-01/ses-1/anat/sub-01_ses-1_from-T1w_to-MNI152NLin2009cAsym_mode-image_xfm.h5\n"
     ]
    }
   ],
   "source": [
    "!ls /data/ds-tmsrisk/derivatives/fmriprep/sub-01/ses-1/anat/sub-01_ses-1_from-T1w_to-MNI152NLin2009cAsym_mode-image_xfm.h5"
   ]
  },
  {
   "cell_type": "code",
   "execution_count": 20,
   "metadata": {},
   "outputs": [
    {
     "name": "stdout",
     "output_type": "stream",
     "text": [
      "sub-01_ses-1_desc-aparcaseg_dseg.nii.gz\n",
      "sub-01_ses-1_desc-aseg_dseg.nii.gz\n",
      "sub-01_ses-1_desc-brain_mask.json\n",
      "sub-01_ses-1_desc-brain_mask.nii.gz\n",
      "sub-01_ses-1_desc-preproc_T1w.json\n",
      "sub-01_ses-1_desc-preproc_T1w.nii.gz\n",
      "sub-01_ses-1_dseg.nii.gz\n",
      "sub-01_ses-1_from-MNI152NLin2009cAsym_to-T1w_mode-image_xfm.h5\n",
      "sub-01_ses-1_from-T1w_to-MNI152NLin2009cAsym_mode-image_xfm.h5\n",
      "sub-01_ses-1_from-T1w_to-fsnative_mode-image_xfm.txt\n",
      "sub-01_ses-1_from-fsnative_to-T1w_mode-image_xfm.fsl\n",
      "sub-01_ses-1_from-fsnative_to-T1w_mode-image_xfm.txt\n",
      "sub-01_ses-1_hemi-L_inflated.surf.gii\n",
      "sub-01_ses-1_hemi-L_midthickness.surf.gii\n",
      "sub-01_ses-1_hemi-L_pial.surf.gii\n",
      "sub-01_ses-1_hemi-L_smoothwm.surf.gii\n",
      "sub-01_ses-1_hemi-R_inflated.surf.gii\n",
      "sub-01_ses-1_hemi-R_midthickness.surf.gii\n",
      "sub-01_ses-1_hemi-R_pial.surf.gii\n",
      "sub-01_ses-1_hemi-R_smoothwm.surf.gii\n",
      "sub-01_ses-1_label-CSF_probseg.nii.gz\n",
      "sub-01_ses-1_label-GM_probseg.nii.gz\n",
      "sub-01_ses-1_label-WM_probseg.nii.gz\n",
      "sub-01_ses-1_space-MNI152NLin2009cAsym_desc-brain_mask.json\n",
      "sub-01_ses-1_space-MNI152NLin2009cAsym_desc-brain_mask.nii.gz\n",
      "sub-01_ses-1_space-MNI152NLin2009cAsym_desc-preproc_T1w.json\n",
      "sub-01_ses-1_space-MNI152NLin2009cAsym_desc-preproc_T1w.nii.gz\n",
      "sub-01_ses-1_space-MNI152NLin2009cAsym_dseg.nii.gz\n",
      "sub-01_ses-1_space-MNI152NLin2009cAsym_label-CSF_probseg.nii.gz\n",
      "sub-01_ses-1_space-MNI152NLin2009cAsym_label-GM_probseg.nii.gz\n",
      "sub-01_ses-1_space-MNI152NLin2009cAsym_label-WM_probseg.nii.gz\n"
     ]
    }
   ],
   "source": [
    "!ls /data/ds-tmsrisk/derivatives/fmriprep/sub-01/ses-1/anat/"
   ]
  },
  {
   "cell_type": "code",
   "execution_count": 11,
   "metadata": {},
   "outputs": [
    {
     "name": "stdout",
     "output_type": "stream",
     "text": [
      "Unexpected exception formatting exception. Falling back to standard exception\n"
     ]
    },
    {
     "name": "stderr",
     "output_type": "stream",
     "text": [
      "Traceback (most recent call last):\n",
      "  File \"/Users/gdehol/mambaforge/lib/python3.10/site-packages/IPython/core/interactiveshell.py\", line 3460, in run_code\n",
      "    exec(code_obj, self.user_global_ns, self.user_ns)\n",
      "  File \"/var/folders/d4/cpqhwlbn301clph1qk64k01nmjkty3/T/ipykernel_48832/3834224823.py\", line 1, in <module>\n",
      "    op.join(fsl_dir, 'data', 'standard', 'MNI152_T1_0.5mm.nii.gz')\n",
      "  File \"/Users/gdehol/mambaforge/lib/python3.10/posixpath.py\", line 76, in join\n",
      "    a = os.fspath(a)\n",
      "TypeError: expected str, bytes or os.PathLike object, not NoneType\n",
      "\n",
      "During handling of the above exception, another exception occurred:\n",
      "\n",
      "Traceback (most recent call last):\n",
      "  File \"/Users/gdehol/mambaforge/lib/python3.10/site-packages/IPython/core/interactiveshell.py\", line 2057, in showtraceback\n",
      "    stb = self.InteractiveTB.structured_traceback(\n",
      "  File \"/Users/gdehol/mambaforge/lib/python3.10/site-packages/IPython/core/ultratb.py\", line 1118, in structured_traceback\n",
      "    return FormattedTB.structured_traceback(\n",
      "  File \"/Users/gdehol/mambaforge/lib/python3.10/site-packages/IPython/core/ultratb.py\", line 1012, in structured_traceback\n",
      "    return VerboseTB.structured_traceback(\n",
      "  File \"/Users/gdehol/mambaforge/lib/python3.10/site-packages/IPython/core/ultratb.py\", line 865, in structured_traceback\n",
      "    formatted_exception = self.format_exception_as_a_whole(etype, evalue, etb, number_of_lines_of_context,\n",
      "  File \"/Users/gdehol/mambaforge/lib/python3.10/site-packages/IPython/core/ultratb.py\", line 799, in format_exception_as_a_whole\n",
      "    self.get_records(etb, number_of_lines_of_context, tb_offset) if etb else []\n",
      "  File \"/Users/gdehol/mambaforge/lib/python3.10/site-packages/IPython/core/ultratb.py\", line 845, in get_records\n",
      "    style = stack_data.style_with_executing_node(style, self._tb_highlight)\n",
      "  File \"/Users/gdehol/mambaforge/lib/python3.10/site-packages/stack_data/core.py\", line 455, in style_with_executing_node\n",
      "    class NewStyle(style):\n",
      "  File \"/Users/gdehol/mambaforge/lib/python3.10/site-packages/pygments/style.py\", line 66, in __new__\n",
      "    ndef[4] = colorformat(styledef[3:])\n",
      "  File \"/Users/gdehol/mambaforge/lib/python3.10/site-packages/pygments/style.py\", line 33, in colorformat\n",
      "    assert False, \"wrong color format %r\" % text\n",
      "AssertionError: wrong color format 'ansiyellow'\n"
     ]
    }
   ],
   "source": [
    "op.join(fsl_dir, 'data', 'standard', 'MNI152_T1_0.5mm.nii.gz')"
   ]
  },
  {
   "cell_type": "code",
   "execution_count": null,
   "metadata": {},
   "outputs": [],
   "source": []
  },
  {
   "cell_type": "code",
   "execution_count": null,
   "metadata": {},
   "outputs": [],
   "source": []
  },
  {
   "cell_type": "code",
   "execution_count": null,
   "metadata": {},
   "outputs": [],
   "source": []
  }
 ],
 "metadata": {
  "kernelspec": {
   "display_name": "base",
   "language": "python",
   "name": "python3"
  },
  "language_info": {
   "codemirror_mode": {
    "name": "ipython",
    "version": 3
   },
   "file_extension": ".py",
   "mimetype": "text/x-python",
   "name": "python",
   "nbconvert_exporter": "python",
   "pygments_lexer": "ipython3",
   "version": "3.10.9"
  }
 },
 "nbformat": 4,
 "nbformat_minor": 2
}
